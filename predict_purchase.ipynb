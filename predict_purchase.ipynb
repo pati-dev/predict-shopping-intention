{
  "nbformat": 4,
  "nbformat_minor": 0,
  "metadata": {
    "colab": {
      "name": "predict_purchase.ipynb",
      "provenance": [],
      "collapsed_sections": [
        "2A02VUnD78j3",
        "uENwBHUg8DO2",
        "BNBSDiyxVALn"
      ],
      "mount_file_id": "1MR02_rDcGm8gzpCXufBii7u0NErI38r9",
      "authorship_tag": "ABX9TyNFsQn44SKhZtAhTVNbvCMd",
      "include_colab_link": true
    },
    "kernelspec": {
      "name": "python3",
      "display_name": "Python 3"
    }
  },
  "cells": [
    {
      "cell_type": "markdown",
      "metadata": {
        "id": "view-in-github",
        "colab_type": "text"
      },
      "source": [
        "<a href=\"https://colab.research.google.com/github/pati-dev/predict-shopping-intention/blob/master/predict_purchase.ipynb\" target=\"_parent\"><img src=\"https://colab.research.google.com/assets/colab-badge.svg\" alt=\"Open In Colab\"/></a>"
      ]
    },
    {
      "cell_type": "markdown",
      "metadata": {
        "id": "7JJq-qRHfxXN",
        "colab_type": "text"
      },
      "source": [
        "# Boot"
      ]
    },
    {
      "cell_type": "code",
      "metadata": {
        "id": "sw6CbwHtcAmo",
        "colab_type": "code",
        "colab": {}
      },
      "source": [
        "import numpy as np\n",
        "import pandas as pd\n",
        "import matplotlib.pyplot as plt\n",
        "import itertools\n",
        "\n",
        "from sklearn.decomposition import PCA\n",
        "from sklearn.preprocessing import QuantileTransformer\n",
        "from sklearn.model_selection import train_test_split\n",
        "from sklearn.linear_model import LogisticRegression\n",
        "from sklearn.svm import SVC\n",
        "from sklearn.model_selection import GridSearchCV\n",
        "from sklearn import metrics"
      ],
      "execution_count": 0,
      "outputs": []
    },
    {
      "cell_type": "markdown",
      "metadata": {
        "id": "nGXJ7vGHf1TT",
        "colab_type": "text"
      },
      "source": [
        "# Load Data"
      ]
    },
    {
      "cell_type": "code",
      "metadata": {
        "id": "XnQ9O2g4bVrm",
        "colab_type": "code",
        "colab": {}
      },
      "source": [
        "shop = pd.read_csv(\"/content/drive/My Drive/Personal/IUB/Job apps/Capgemini/online_shoppers_intention.csv\")"
      ],
      "execution_count": 0,
      "outputs": []
    },
    {
      "cell_type": "code",
      "metadata": {
        "id": "cKdYfiZ0cPmc",
        "colab_type": "code",
        "outputId": "80066c66-52d2-4667-d2b1-01a686a355f0",
        "colab": {
          "base_uri": "https://localhost:8080/",
          "height": 224
        }
      },
      "source": [
        "shop.head()"
      ],
      "execution_count": 0,
      "outputs": [
        {
          "output_type": "execute_result",
          "data": {
            "text/html": [
              "<div>\n",
              "<style scoped>\n",
              "    .dataframe tbody tr th:only-of-type {\n",
              "        vertical-align: middle;\n",
              "    }\n",
              "\n",
              "    .dataframe tbody tr th {\n",
              "        vertical-align: top;\n",
              "    }\n",
              "\n",
              "    .dataframe thead th {\n",
              "        text-align: right;\n",
              "    }\n",
              "</style>\n",
              "<table border=\"1\" class=\"dataframe\">\n",
              "  <thead>\n",
              "    <tr style=\"text-align: right;\">\n",
              "      <th></th>\n",
              "      <th>Administrative</th>\n",
              "      <th>Administrative_Duration</th>\n",
              "      <th>Informational</th>\n",
              "      <th>Informational_Duration</th>\n",
              "      <th>ProductRelated</th>\n",
              "      <th>ProductRelated_Duration</th>\n",
              "      <th>BounceRates</th>\n",
              "      <th>ExitRates</th>\n",
              "      <th>PageValues</th>\n",
              "      <th>SpecialDay</th>\n",
              "      <th>Month</th>\n",
              "      <th>OperatingSystems</th>\n",
              "      <th>Browser</th>\n",
              "      <th>Region</th>\n",
              "      <th>TrafficType</th>\n",
              "      <th>VisitorType</th>\n",
              "      <th>Weekend</th>\n",
              "      <th>Revenue</th>\n",
              "    </tr>\n",
              "  </thead>\n",
              "  <tbody>\n",
              "    <tr>\n",
              "      <th>0</th>\n",
              "      <td>0</td>\n",
              "      <td>0.0</td>\n",
              "      <td>0</td>\n",
              "      <td>0.0</td>\n",
              "      <td>1</td>\n",
              "      <td>0.000000</td>\n",
              "      <td>0.20</td>\n",
              "      <td>0.20</td>\n",
              "      <td>0.0</td>\n",
              "      <td>0.0</td>\n",
              "      <td>Feb</td>\n",
              "      <td>1</td>\n",
              "      <td>1</td>\n",
              "      <td>1</td>\n",
              "      <td>1</td>\n",
              "      <td>Returning_Visitor</td>\n",
              "      <td>False</td>\n",
              "      <td>False</td>\n",
              "    </tr>\n",
              "    <tr>\n",
              "      <th>1</th>\n",
              "      <td>0</td>\n",
              "      <td>0.0</td>\n",
              "      <td>0</td>\n",
              "      <td>0.0</td>\n",
              "      <td>2</td>\n",
              "      <td>64.000000</td>\n",
              "      <td>0.00</td>\n",
              "      <td>0.10</td>\n",
              "      <td>0.0</td>\n",
              "      <td>0.0</td>\n",
              "      <td>Feb</td>\n",
              "      <td>2</td>\n",
              "      <td>2</td>\n",
              "      <td>1</td>\n",
              "      <td>2</td>\n",
              "      <td>Returning_Visitor</td>\n",
              "      <td>False</td>\n",
              "      <td>False</td>\n",
              "    </tr>\n",
              "    <tr>\n",
              "      <th>2</th>\n",
              "      <td>0</td>\n",
              "      <td>0.0</td>\n",
              "      <td>0</td>\n",
              "      <td>0.0</td>\n",
              "      <td>1</td>\n",
              "      <td>0.000000</td>\n",
              "      <td>0.20</td>\n",
              "      <td>0.20</td>\n",
              "      <td>0.0</td>\n",
              "      <td>0.0</td>\n",
              "      <td>Feb</td>\n",
              "      <td>4</td>\n",
              "      <td>1</td>\n",
              "      <td>9</td>\n",
              "      <td>3</td>\n",
              "      <td>Returning_Visitor</td>\n",
              "      <td>False</td>\n",
              "      <td>False</td>\n",
              "    </tr>\n",
              "    <tr>\n",
              "      <th>3</th>\n",
              "      <td>0</td>\n",
              "      <td>0.0</td>\n",
              "      <td>0</td>\n",
              "      <td>0.0</td>\n",
              "      <td>2</td>\n",
              "      <td>2.666667</td>\n",
              "      <td>0.05</td>\n",
              "      <td>0.14</td>\n",
              "      <td>0.0</td>\n",
              "      <td>0.0</td>\n",
              "      <td>Feb</td>\n",
              "      <td>3</td>\n",
              "      <td>2</td>\n",
              "      <td>2</td>\n",
              "      <td>4</td>\n",
              "      <td>Returning_Visitor</td>\n",
              "      <td>False</td>\n",
              "      <td>False</td>\n",
              "    </tr>\n",
              "    <tr>\n",
              "      <th>4</th>\n",
              "      <td>0</td>\n",
              "      <td>0.0</td>\n",
              "      <td>0</td>\n",
              "      <td>0.0</td>\n",
              "      <td>10</td>\n",
              "      <td>627.500000</td>\n",
              "      <td>0.02</td>\n",
              "      <td>0.05</td>\n",
              "      <td>0.0</td>\n",
              "      <td>0.0</td>\n",
              "      <td>Feb</td>\n",
              "      <td>3</td>\n",
              "      <td>3</td>\n",
              "      <td>1</td>\n",
              "      <td>4</td>\n",
              "      <td>Returning_Visitor</td>\n",
              "      <td>True</td>\n",
              "      <td>False</td>\n",
              "    </tr>\n",
              "  </tbody>\n",
              "</table>\n",
              "</div>"
            ],
            "text/plain": [
              "   Administrative  Administrative_Duration  ...  Weekend  Revenue\n",
              "0               0                      0.0  ...    False    False\n",
              "1               0                      0.0  ...    False    False\n",
              "2               0                      0.0  ...    False    False\n",
              "3               0                      0.0  ...    False    False\n",
              "4               0                      0.0  ...     True    False\n",
              "\n",
              "[5 rows x 18 columns]"
            ]
          },
          "metadata": {
            "tags": []
          },
          "execution_count": 3
        }
      ]
    },
    {
      "cell_type": "markdown",
      "metadata": {
        "id": "4gysoS5zfr3t",
        "colab_type": "text"
      },
      "source": [
        "# Data preprocessing"
      ]
    },
    {
      "cell_type": "code",
      "metadata": {
        "id": "hzfZnfyQfLr0",
        "colab_type": "code",
        "outputId": "3609a754-51b0-4719-f56c-e95f11ee7339",
        "colab": {
          "base_uri": "https://localhost:8080/",
          "height": 442
        }
      },
      "source": [
        "print(shop.columns)\n",
        "print(shop.dtypes)"
      ],
      "execution_count": 0,
      "outputs": [
        {
          "output_type": "stream",
          "text": [
            "Index(['Administrative', 'Administrative_Duration', 'Informational',\n",
            "       'Informational_Duration', 'ProductRelated', 'ProductRelated_Duration',\n",
            "       'BounceRates', 'ExitRates', 'PageValues', 'SpecialDay', 'Month',\n",
            "       'OperatingSystems', 'Browser', 'Region', 'TrafficType', 'VisitorType',\n",
            "       'Weekend', 'Revenue'],\n",
            "      dtype='object')\n",
            "Administrative               int64\n",
            "Administrative_Duration    float64\n",
            "Informational                int64\n",
            "Informational_Duration     float64\n",
            "ProductRelated               int64\n",
            "ProductRelated_Duration    float64\n",
            "BounceRates                float64\n",
            "ExitRates                  float64\n",
            "PageValues                 float64\n",
            "SpecialDay                 float64\n",
            "Month                       object\n",
            "OperatingSystems             int64\n",
            "Browser                      int64\n",
            "Region                       int64\n",
            "TrafficType                  int64\n",
            "VisitorType                 object\n",
            "Weekend                       bool\n",
            "Revenue                       bool\n",
            "dtype: object\n"
          ],
          "name": "stdout"
        }
      ]
    },
    {
      "cell_type": "code",
      "metadata": {
        "id": "LjJXeLIaFjN-",
        "colab_type": "code",
        "outputId": "19e13d76-075e-4457-aa91-5036fd87b1da",
        "colab": {
          "base_uri": "https://localhost:8080/",
          "height": 265
        }
      },
      "source": [
        "pages = ['Administrative',\n",
        "         'Informational',\n",
        "         'ProductRelated',\n",
        "         'Administrative_Duration',\n",
        "         'Informational_Duration',\n",
        "         'ProductRelated_Duration',\n",
        "         'BounceRates',\n",
        "         'ExitRates',\n",
        "         'PageValues']\n",
        "\n",
        "x_pages = shop.loc[:, pages].values\n",
        "\n",
        "plt.hist(x_pages, label=pages)\n",
        "plt.legend()\n",
        "plt.show()"
      ],
      "execution_count": 3,
      "outputs": [
        {
          "output_type": "display_data",
          "data": {
            "image/png": "[encoded data removed]",
            "text/plain": [
              "<Figure size 432x288 with 1 Axes>"
            ]
          },
          "metadata": {
            "tags": []
          }
        }
      ]
    },
    {
      "cell_type": "markdown",
      "metadata": {
        "id": "o6WnHNW3DQpG",
        "colab_type": "text"
      },
      "source": [
        "### Feature scaling"
      ]
    },
    {
      "cell_type": "code",
      "metadata": {
        "id": "2HHnLtp6kJBE",
        "colab_type": "code",
        "outputId": "bfba19f0-10a9-4782-8618-ba386ffa54d9",
        "colab": {
          "base_uri": "https://localhost:8080/",
          "height": 265
        }
      },
      "source": [
        "x_pages = QuantileTransformer(output_distribution='uniform').fit_transform(x_pages)\n",
        "plt.hist(x_pages, label=pages)\n",
        "plt.legend()\n",
        "plt.show()"
      ],
      "execution_count": 4,
      "outputs": [
        {
          "output_type": "display_data",
          "data": {
            "image/png": "[encoded data removed]",
            "text/plain": [
              "<Figure size 432x288 with 1 Axes>"
            ]
          },
          "metadata": {
            "tags": []
          }
        }
      ]
    },
    {
      "cell_type": "markdown",
      "metadata": {
        "id": "LaSBI9xXJftF",
        "colab_type": "text"
      },
      "source": [
        "### Dimension reduction"
      ]
    },
    {
      "cell_type": "code",
      "metadata": {
        "id": "OqSNmZImsCcF",
        "colab_type": "code",
        "outputId": "ef256751-eb14-40c0-ae73-5341228c2a8c",
        "colab": {
          "base_uri": "https://localhost:8080/",
          "height": 283
        }
      },
      "source": [
        "pca = PCA(n_components=6)\n",
        "\n",
        "pca.fit(x_pages)\n",
        "\n",
        "print(\"% variance explained:\", sum(pca.explained_variance_ratio_)*100)\n",
        "variance = np.cumsum(np.round(pca.explained_variance_ratio_, decimals=4)*100)\n",
        "plt.plot(variance, marker='*')\n",
        "plt.show()"
      ],
      "execution_count": 5,
      "outputs": [
        {
          "output_type": "stream",
          "text": [
            "% variance explained: 98.07948987307486\n"
          ],
          "name": "stdout"
        },
        {
          "output_type": "display_data",
          "data": {
            "image/png": "[encoded data removed]",
            "text/plain": [
              "<Figure size 432x288 with 1 Axes>"
            ]
          },
          "metadata": {
            "tags": []
          }
        }
      ]
    },
    {
      "cell_type": "code",
      "metadata": {
        "id": "A8pI3uuGIl3S",
        "colab_type": "code",
        "colab": {
          "base_uri": "https://localhost:8080/",
          "height": 413
        },
        "outputId": "705d0b6f-75ee-411d-8ff1-1669875e4699"
      },
      "source": [
        "plt.matshow(pca.components_,cmap='viridis')\n",
        "plt.yticks([0, 1, 2, 3, 4, 5],['PC1', 'PC2', 'PC3', 'PC4', 'PC5', 'PC6'], fontsize=10)\n",
        "plt.colorbar()\n",
        "plt.xticks(range(len(pages)),pages,rotation=65,ha='left')\n",
        "plt.tight_layout()\n",
        "plt.show()"
      ],
      "execution_count": 62,
      "outputs": [
        {
          "output_type": "stream",
          "text": [
            "/usr/local/lib/python3.6/dist-packages/ipykernel_launcher.py:5: UserWarning: This figure includes Axes that are not compatible with tight_layout, so results might be incorrect.\n",
            "  \"\"\"\n"
          ],
          "name": "stderr"
        },
        {
          "output_type": "display_data",
          "data": {
            "image/png": "[encoded data removed]",
            "text/plain": [
              "<Figure size 432x288 with 2 Axes>"
            ]
          },
          "metadata": {
            "tags": []
          }
        }
      ]
    },
    {
      "cell_type": "markdown",
      "metadata": {
        "id": "YR-c4x5lSC0G",
        "colab_type": "text"
      },
      "source": [
        "# Data preparation"
      ]
    },
    {
      "cell_type": "code",
      "metadata": {
        "id": "RcqHWU_TGXXo",
        "colab_type": "code",
        "colab": {}
      },
      "source": [
        "pages_pca = pca.fit_transform(x_pages)\n",
        "\n",
        "df_pages_pca = pd.DataFrame(data = pages_pca,\n",
        "                            columns = ['pages_pc1',\n",
        "                                       'pages_pc2',\n",
        "                                       'pages_pc3',\n",
        "                                       'pages_pc4',\n",
        "                                       'pages_pc5',\n",
        "                                       'pages_pc6'])\n",
        "\n",
        "shop['is_weekend'] = np.where(shop['Weekend']==True, 1, 0)\n",
        "shop['returning_visitor'] = np.where(shop['VisitorType']==\"Returning_Visitor\", 1, 0)\n",
        "\n",
        "# 0 1 labels for Logistic Regression\n",
        "shop['purchase'] = np.where(shop['Revenue']==True, 1, 0)\n",
        "\n",
        "# -1 1 labels for SVM\n",
        "# shop['purchase'] = np.where(shop['Revenue']==True, 1, -1)\n",
        "\n",
        "cols = ['is_weekend',\n",
        "        'returning_visitor',\n",
        "        'SpecialDay',\n",
        "        'purchase']\n",
        "df_shop = shop.loc[:, cols]"
      ],
      "execution_count": 0,
      "outputs": []
    },
    {
      "cell_type": "markdown",
      "metadata": {
        "id": "Wyzgq4XBUxBi",
        "colab_type": "text"
      },
      "source": [
        "# Generate data, fit model, and evaluate"
      ]
    },
    {
      "cell_type": "code",
      "metadata": {
        "id": "6b2RCMiJmdZN",
        "colab_type": "code",
        "colab": {}
      },
      "source": [
        "def generate_data(df_pca, df_raw, labels):\n",
        "  pca_cols, raw_cols = df_pca.columns, df_raw.columns\n",
        "  \n",
        "  # Remove labels from features\n",
        "  raw_cols = raw_cols[ raw_cols != labels ]\n",
        "\n",
        "  # Prepare combinations of raw features\n",
        "  raw_combos = []\n",
        "  for i in range(1, len(raw_cols)+1):\n",
        "    for combo in itertools.combinations(raw_cols, i):\n",
        "      raw_combos += [list(combo)]\n",
        "  \n",
        "  for pca_idx in range( len(pca_cols), 3, -1):\n",
        "    for raw_combo in raw_combos:\n",
        "      pca_combo = pca_cols[:pca_idx]\n",
        "      \n",
        "      x = pd.concat( [df_pca.loc[:, pca_combo], df_raw.loc[:, raw_combo]], axis=1 )\n",
        "      y = df_raw[labels]\n",
        "\n",
        "      x_train, x_test, y_train, y_test = train_test_split(x, y, test_size=0.3, random_state=0)\n",
        "\n",
        "      yield x_train, x_test, y_train, y_test"
      ],
      "execution_count": 0,
      "outputs": []
    },
    {
      "cell_type": "code",
      "metadata": {
        "id": "SS7f0IfES7Re",
        "colab_type": "code",
        "colab": {}
      },
      "source": [
        "def fit_log_reg(x_train, y_train):\n",
        "  lr_model = LogisticRegression()\n",
        "\n",
        "  # solver = ['lbfgs', 'newton-cg']\n",
        "  # C = np.logspace(0, 4, 10)\n",
        "  solver = ['lbfgs']\n",
        "  C = [1]\n",
        "\n",
        "  hyperparams = dict(solver=solver, C=C)\n",
        "\n",
        "  # 5-fold cross-validation\n",
        "  clf = GridSearchCV(lr_model, hyperparams, cv=5, n_jobs=-1)\n",
        "  model = clf.fit(x_train, y_train)\n",
        "\n",
        "  return model\n",
        "\n",
        "def fit_svm(x_train, y_train):\n",
        "  svm_model = SVC()\n",
        "\n",
        "  # C = [0.1, 1, 10, 100, 1000]\n",
        "  C = [1, 10]\n",
        "  # gamma = [1, 0.1, 0.01, 0.001, 0.0001]\n",
        "  gamma = ['scale', 'auto']\n",
        "  # kernel = ['rbf', 'linear', 'poly']\n",
        "  kernel = ['rbf', 'poly']\n",
        "\n",
        "  hyperparams = dict(kernel=kernel, C=C, gamma=gamma)\n",
        "\n",
        "  # 5-fold cross-validation\n",
        "  clf = GridSearchCV(svm_model, hyperparams, cv=5, verbose=2, n_jobs=-1)\n",
        "  model = clf.fit(x_train, y_train)\n",
        "\n",
        "  print(model.best_params_)\n",
        "\n",
        "  return model"
      ],
      "execution_count": 0,
      "outputs": []
    },
    {
      "cell_type": "code",
      "metadata": {
        "id": "L0G4ffIycpgy",
        "colab_type": "code",
        "colab": {}
      },
      "source": [
        "def evaluate(model, x_test, y_test, results):\n",
        "  predictions = model.predict(x_test)\n",
        "\n",
        "  C = metrics.confusion_matrix(y_test, predictions)\n",
        "\n",
        "  n_samples = len(y_test)\n",
        "  tn, fp, fn, tp = C[0][0], C[0][1], C[1][0], C[1][1]\n",
        "  \n",
        "  precision = tp / (tp + fp) * 100\n",
        "  recall = tp / (tp + fn) * 100\n",
        "  accuracy = (tp + tn) / (tp + fp + tn + fn) * 100\n",
        "\n",
        "  print(\"\\n\\nResults for model with features:\", x_test.columns.values)\n",
        "  print(\"Accuracy:\", accuracy)\n",
        "  print(\"Precision:\", precision)\n",
        "  print(\"Recall:\", recall)\n",
        "\n",
        "  # Populate results in dict\n",
        "  results[tuple(x_test.columns)] = {\"accuracy\" : accuracy,\n",
        "                                    \"precision\" : precision,\n",
        "                                    \"recall\" : recall}\n",
        "  \n",
        "  return None"
      ],
      "execution_count": 0,
      "outputs": []
    },
    {
      "cell_type": "markdown",
      "metadata": {
        "id": "2A02VUnD78j3",
        "colab_type": "text"
      },
      "source": [
        "## Fit and evaluate logistic regression model"
      ]
    },
    {
      "cell_type": "code",
      "metadata": {
        "id": "KySM93LIhuU0",
        "colab_type": "code",
        "outputId": "484763f0-7a15-4c11-9230-5c2d4f857bcd",
        "colab": {
          "base_uri": "https://localhost:8080/",
          "height": 1000
        }
      },
      "source": [
        "train_results = {}\n",
        "test_results = {}\n",
        "\n",
        "for x_train, x_test, y_train, y_test in generate_data(df_pca=df_pages_pca, df_raw=df_shop, labels='purchase'):\n",
        "  model = fit_log_reg(x_train=x_train, y_train=y_train)\n",
        "  evaluate(model=model, x_test=x_train, y_test=y_train, results=train_results)\n",
        "  evaluate(model=model, x_test=x_test, y_test=y_test, results=test_results)"
      ],
      "execution_count": 0,
      "outputs": [
        {
          "output_type": "stream",
          "text": [
            "\n",
            "\n",
            "Results for model with features: ['pages_pc1' 'pages_pc2' 'pages_pc3' 'pages_pc4' 'pages_pc5' 'pages_pc6'\n",
            " 'is_weekend']\n",
            "Accuracy: 90.02433090024331\n",
            "Precision: 68.65671641791045\n",
            "Recall: 60.80870917573873\n",
            "\n",
            "\n",
            "Results for model with features: ['pages_pc1' 'pages_pc2' 'pages_pc3' 'pages_pc4' 'pages_pc5' 'pages_pc6'\n",
            " 'is_weekend']\n",
            "Accuracy: 88.83482022168153\n",
            "Precision: 70.2127659574468\n",
            "Recall: 58.36012861736335\n",
            "\n",
            "\n",
            "Results for model with features: ['pages_pc1' 'pages_pc2' 'pages_pc3' 'pages_pc4' 'pages_pc5' 'pages_pc6'\n",
            " 'returning_visitor']\n",
            "Accuracy: 90.14019232997336\n",
            "Precision: 70.19498607242339\n",
            "Recall: 58.78693623639192\n",
            "\n",
            "\n",
            "Results for model with features: ['pages_pc1' 'pages_pc2' 'pages_pc3' 'pages_pc4' 'pages_pc5' 'pages_pc6'\n",
            " 'returning_visitor']\n",
            "Accuracy: 88.48337388483374\n",
            "Precision: 70.08196721311475\n",
            "Recall: 54.983922829581985\n",
            "\n",
            "\n",
            "Results for model with features: ['pages_pc1' 'pages_pc2' 'pages_pc3' 'pages_pc4' 'pages_pc5' 'pages_pc6'\n",
            " 'SpecialDay']\n",
            "Accuracy: 89.85053875564824\n",
            "Precision: 67.5513698630137\n",
            "Recall: 61.353032659409024\n",
            "\n",
            "\n",
            "Results for model with features: ['pages_pc1' 'pages_pc2' 'pages_pc3' 'pages_pc4' 'pages_pc5' 'pages_pc6'\n",
            " 'SpecialDay']\n",
            "Accuracy: 88.59151121924845\n",
            "Precision: 69.01140684410646\n",
            "Recall: 58.36012861736335\n",
            "\n",
            "\n",
            "Results for model with features: ['pages_pc1' 'pages_pc2' 'pages_pc3' 'pages_pc4' 'pages_pc5' 'pages_pc6'\n",
            " 'is_weekend' 'returning_visitor']\n",
            "Accuracy: 90.15177847294635\n",
            "Precision: 70.37383177570094\n",
            "Recall: 58.55365474339036\n",
            "\n",
            "\n",
            "Results for model with features: ['pages_pc1' 'pages_pc2' 'pages_pc3' 'pages_pc4' 'pages_pc5' 'pages_pc6'\n",
            " 'is_weekend' 'returning_visitor']\n",
            "Accuracy: 88.51040821843742\n",
            "Precision: 70.2258726899384\n",
            "Recall: 54.983922829581985\n",
            "\n",
            "\n",
            "Results for model with features: ['pages_pc1' 'pages_pc2' 'pages_pc3' 'pages_pc4' 'pages_pc5' 'pages_pc6'\n",
            " 'is_weekend' 'SpecialDay']\n",
            "Accuracy: 89.75784961186422\n",
            "Precision: 67.32758620689656\n",
            "Recall: 60.73094867807154\n",
            "\n",
            "\n",
            "Results for model with features: ['pages_pc1' 'pages_pc2' 'pages_pc3' 'pages_pc4' 'pages_pc5' 'pages_pc6'\n",
            " 'is_weekend' 'SpecialDay']\n",
            "Accuracy: 88.67261422005947\n",
            "Precision: 69.25996204933587\n",
            "Recall: 58.68167202572347\n",
            "\n",
            "\n",
            "Results for model with features: ['pages_pc1' 'pages_pc2' 'pages_pc3' 'pages_pc4' 'pages_pc5' 'pages_pc6'\n",
            " 'returning_visitor' 'SpecialDay']\n",
            "Accuracy: 89.96640018537829\n",
            "Precision: 69.26605504587155\n",
            "Recall: 58.70917573872473\n",
            "\n",
            "\n",
            "Results for model with features: ['pages_pc1' 'pages_pc2' 'pages_pc3' 'pages_pc4' 'pages_pc5' 'pages_pc6'\n",
            " 'returning_visitor' 'SpecialDay']\n",
            "Accuracy: 88.26709921600433\n",
            "Precision: 68.8\n",
            "Recall: 55.30546623794213\n",
            "\n",
            "\n",
            "Results for model with features: ['pages_pc1' 'pages_pc2' 'pages_pc3' 'pages_pc4' 'pages_pc5' 'pages_pc6'\n",
            " 'is_weekend' 'returning_visitor' 'SpecialDay']\n",
            "Accuracy: 90.00115861429731\n",
            "Precision: 69.45722171113155\n",
            "Recall: 58.70917573872473\n",
            "\n",
            "\n",
            "Results for model with features: ['pages_pc1' 'pages_pc2' 'pages_pc3' 'pages_pc4' 'pages_pc5' 'pages_pc6'\n",
            " 'is_weekend' 'returning_visitor' 'SpecialDay']\n",
            "Accuracy: 88.34820221681535\n",
            "Precision: 68.98608349900597\n",
            "Recall: 55.78778135048231\n",
            "\n",
            "\n",
            "Results for model with features: ['pages_pc1' 'pages_pc2' 'pages_pc3' 'pages_pc4' 'pages_pc5' 'is_weekend']\n",
            "Accuracy: 89.95481404240529\n",
            "Precision: 68.6553873552983\n",
            "Recall: 59.95334370139969\n",
            "\n",
            "\n",
            "Results for model with features: ['pages_pc1' 'pages_pc2' 'pages_pc3' 'pages_pc4' 'pages_pc5' 'is_weekend']\n",
            "Accuracy: 88.294133549608\n",
            "Precision: 68.20809248554913\n",
            "Recall: 56.91318327974276\n",
            "\n",
            "\n",
            "Results for model with features: ['pages_pc1' 'pages_pc2' 'pages_pc3' 'pages_pc4' 'pages_pc5'\n",
            " 'returning_visitor']\n",
            "Accuracy: 90.0127447572703\n",
            "Precision: 69.70260223048327\n",
            "Recall: 58.320373250388805\n",
            "\n",
            "\n",
            "Results for model with features: ['pages_pc1' 'pages_pc2' 'pages_pc3' 'pages_pc4' 'pages_pc5'\n",
            " 'returning_visitor']\n",
            "Accuracy: 88.42930521762639\n",
            "Precision: 69.63562753036437\n",
            "Recall: 55.30546623794213\n",
            "\n",
            "\n",
            "Results for model with features: ['pages_pc1' 'pages_pc2' 'pages_pc3' 'pages_pc4' 'pages_pc5' 'SpecialDay']\n",
            "Accuracy: 89.87371104159425\n",
            "Precision: 67.94425087108013\n",
            "Recall: 60.65318818040435\n",
            "\n",
            "\n",
            "Results for model with features: ['pages_pc1' 'pages_pc2' 'pages_pc3' 'pages_pc4' 'pages_pc5' 'SpecialDay']\n",
            "Accuracy: 88.1859962151933\n",
            "Precision: 67.68642447418738\n",
            "Recall: 56.91318327974276\n",
            "\n",
            "\n",
            "Results for model with features: ['pages_pc1' 'pages_pc2' 'pages_pc3' 'pages_pc4' 'pages_pc5' 'is_weekend'\n",
            " 'returning_visitor']\n",
            "Accuracy: 90.10543390105434\n",
            "Precision: 70.1492537313433\n",
            "Recall: 58.47589424572317\n",
            "\n",
            "\n",
            "Results for model with features: ['pages_pc1' 'pages_pc2' 'pages_pc3' 'pages_pc4' 'pages_pc5' 'is_weekend'\n",
            " 'returning_visitor']\n",
            "Accuracy: 88.51040821843742\n",
            "Precision: 69.81891348088531\n",
            "Recall: 55.78778135048231\n",
            "\n",
            "\n",
            "Results for model with features: ['pages_pc1' 'pages_pc2' 'pages_pc3' 'pages_pc4' 'pages_pc5' 'is_weekend'\n",
            " 'SpecialDay']\n",
            "Accuracy: 89.76943575483722\n",
            "Precision: 67.56756756756756\n",
            "Recall: 60.26438569206844\n",
            "\n",
            "\n",
            "Results for model with features: ['pages_pc1' 'pages_pc2' 'pages_pc3' 'pages_pc4' 'pages_pc5' 'is_weekend'\n",
            " 'SpecialDay']\n",
            "Accuracy: 88.07785888077859\n",
            "Precision: 67.30401529636711\n",
            "Recall: 56.59163987138264\n",
            "\n",
            "\n",
            "Results for model with features: ['pages_pc1' 'pages_pc2' 'pages_pc3' 'pages_pc4' 'pages_pc5'\n",
            " 'returning_visitor' 'SpecialDay']\n",
            "Accuracy: 89.94322789943227\n",
            "Precision: 69.28044280442805\n",
            "Recall: 58.39813374805599\n",
            "\n",
            "\n",
            "Results for model with features: ['pages_pc1' 'pages_pc2' 'pages_pc3' 'pages_pc4' 'pages_pc5'\n",
            " 'returning_visitor' 'SpecialDay']\n",
            "Accuracy: 88.32116788321169\n",
            "Precision: 68.62745098039215\n",
            "Recall: 56.27009646302251\n",
            "\n",
            "\n",
            "Results for model with features: ['pages_pc1' 'pages_pc2' 'pages_pc3' 'pages_pc4' 'pages_pc5' 'is_weekend'\n",
            " 'returning_visitor' 'SpecialDay']\n",
            "Accuracy: 89.89688332754027\n",
            "Precision: 69.0959409594096\n",
            "Recall: 58.24261275272161\n",
            "\n",
            "\n",
            "Results for model with features: ['pages_pc1' 'pages_pc2' 'pages_pc3' 'pages_pc4' 'pages_pc5' 'is_weekend'\n",
            " 'returning_visitor' 'SpecialDay']\n",
            "Accuracy: 88.21303054879697\n",
            "Precision: 68.30708661417323\n",
            "Recall: 55.78778135048231\n",
            "\n",
            "\n",
            "Results for model with features: ['pages_pc1' 'pages_pc2' 'pages_pc3' 'pages_pc4' 'is_weekend']\n",
            "Accuracy: 87.69551616266945\n",
            "Precision: 62.66968325791855\n",
            "Recall: 43.07931570762053\n",
            "\n",
            "\n",
            "Results for model with features: ['pages_pc1' 'pages_pc2' 'pages_pc3' 'pages_pc4' 'is_weekend']\n",
            "Accuracy: 86.50986753176534\n",
            "Precision: 66.2269129287599\n",
            "Recall: 40.353697749196144\n",
            "\n",
            "\n",
            "Results for model with features: ['pages_pc1' 'pages_pc2' 'pages_pc3' 'pages_pc4' 'returning_visitor']\n",
            "Accuracy: 88.07785888077859\n",
            "Precision: 64.75315729047072\n",
            "Recall: 43.856920684292376\n",
            "\n",
            "\n",
            "Results for model with features: ['pages_pc1' 'pages_pc2' 'pages_pc3' 'pages_pc4' 'returning_visitor']\n",
            "Accuracy: 86.5639361989727\n",
            "Precision: 66.49076517150397\n",
            "Recall: 40.51446945337621\n",
            "\n",
            "\n",
            "Results for model with features: ['pages_pc1' 'pages_pc2' 'pages_pc3' 'pages_pc4' 'SpecialDay']\n",
            "Accuracy: 87.63758544780443\n",
            "Precision: 62.37288135593221\n",
            "Recall: 42.92379471228615\n",
            "\n",
            "\n",
            "Results for model with features: ['pages_pc1' 'pages_pc2' 'pages_pc3' 'pages_pc4' 'SpecialDay']\n",
            "Accuracy: 86.69910786699107\n",
            "Precision: 66.66666666666666\n",
            "Recall: 41.80064308681672\n",
            "\n",
            "\n",
            "Results for model with features: ['pages_pc1' 'pages_pc2' 'pages_pc3' 'pages_pc4' 'is_weekend'\n",
            " 'returning_visitor']\n",
            "Accuracy: 88.07785888077859\n",
            "Precision: 64.82122260668973\n",
            "Recall: 43.701399688958006\n",
            "\n",
            "\n",
            "Results for model with features: ['pages_pc1' 'pages_pc2' 'pages_pc3' 'pages_pc4' 'is_weekend'\n",
            " 'returning_visitor']\n",
            "Accuracy: 86.5639361989727\n",
            "Precision: 66.31853785900783\n",
            "Recall: 40.836012861736336\n",
            "\n",
            "\n",
            "Results for model with features: ['pages_pc1' 'pages_pc2' 'pages_pc3' 'pages_pc4' 'is_weekend' 'SpecialDay']\n",
            "Accuracy: 87.63758544780443\n",
            "Precision: 62.42905788876277\n",
            "Recall: 42.76827371695179\n",
            "\n",
            "\n",
            "Results for model with features: ['pages_pc1' 'pages_pc2' 'pages_pc3' 'pages_pc4' 'is_weekend' 'SpecialDay']\n",
            "Accuracy: 86.83427953500946\n",
            "Precision: 67.62402088772846\n",
            "Recall: 41.639871382636656\n",
            "\n",
            "\n",
            "Results for model with features: ['pages_pc1' 'pages_pc2' 'pages_pc3' 'pages_pc4' 'returning_visitor'\n",
            " 'SpecialDay']\n",
            "Accuracy: 88.03151430888657\n",
            "Precision: 64.49026345933562\n",
            "Recall: 43.77916018662519\n",
            "\n",
            "\n",
            "Results for model with features: ['pages_pc1' 'pages_pc2' 'pages_pc3' 'pages_pc4' 'returning_visitor'\n",
            " 'SpecialDay']\n",
            "Accuracy: 86.94241686942416\n",
            "Precision: 67.86632390745501\n",
            "Recall: 42.443729903536976\n",
            "\n",
            "\n",
            "Results for model with features: ['pages_pc1' 'pages_pc2' 'pages_pc3' 'pages_pc4' 'is_weekend'\n",
            " 'returning_visitor' 'SpecialDay']\n",
            "Accuracy: 88.04310045185957\n",
            "Precision: 64.53089244851259\n",
            "Recall: 43.856920684292376\n",
            "\n",
            "\n",
            "Results for model with features: ['pages_pc1' 'pages_pc2' 'pages_pc3' 'pages_pc4' 'is_weekend'\n",
            " 'returning_visitor' 'SpecialDay']\n",
            "Accuracy: 86.83427953500946\n",
            "Precision: 67.44186046511628\n",
            "Recall: 41.961414790996784\n"
          ],
          "name": "stdout"
        }
      ]
    },
    {
      "cell_type": "markdown",
      "metadata": {
        "id": "uENwBHUg8DO2",
        "colab_type": "text"
      },
      "source": [
        "## Fit and evaluate Support Vector Machines model"
      ]
    },
    {
      "cell_type": "code",
      "metadata": {
        "id": "huQQre0y7zWe",
        "colab_type": "code",
        "outputId": "64475907-ee59-47c4-f0bd-59fbea7ed749",
        "colab": {
          "base_uri": "https://localhost:8080/",
          "height": 1000
        }
      },
      "source": [
        "# NB: Remember to modify label into +1 -1 instead of 1 0 for SVM\n",
        "\n",
        "train_results = {}\n",
        "test_results = {}\n",
        "\n",
        "for x_train, x_test, y_train, y_test in generate_data(df_pca=df_pages_pca, df_raw=df_shop, labels='purchase'):\n",
        "  model = fit_svm(x_train=x_train, y_train=y_train)\n",
        "  evaluate(model=model, x_test=x_train, y_test=y_train, results=train_results)\n",
        "  evaluate(model=model, x_test=x_test, y_test=y_test, results=test_results)"
      ],
      "execution_count": 0,
      "outputs": [
        {
          "output_type": "stream",
          "text": [
            "Fitting 5 folds for each of 8 candidates, totalling 40 fits\n"
          ],
          "name": "stdout"
        },
        {
          "output_type": "stream",
          "text": [
            "[Parallel(n_jobs=-1)]: Using backend LokyBackend with 2 concurrent workers.\n",
            "[Parallel(n_jobs=-1)]: Done  37 tasks      | elapsed:   26.8s\n",
            "[Parallel(n_jobs=-1)]: Done  40 out of  40 | elapsed:   27.6s finished\n"
          ],
          "name": "stderr"
        },
        {
          "output_type": "stream",
          "text": [
            "{'C': 10, 'gamma': 'scale', 'kernel': 'rbf'}\n",
            "\n",
            "\n",
            "Results for model with features: ['pages_pc1' 'pages_pc2' 'pages_pc3' 'pages_pc4' 'pages_pc5' 'pages_pc6'\n",
            " 'is_weekend']\n",
            "Accuracy: 90.8353609083536\n",
            "Precision: 77.84026996625421\n",
            "Recall: 53.810264385692065\n",
            "\n",
            "\n",
            "Results for model with features: ['pages_pc1' 'pages_pc2' 'pages_pc3' 'pages_pc4' 'pages_pc5' 'pages_pc6'\n",
            " 'is_weekend']\n",
            "Accuracy: 88.37523655041903\n",
            "Precision: 73.07692307692307\n",
            "Recall: 48.87459807073955\n",
            "Fitting 5 folds for each of 8 candidates, totalling 40 fits\n"
          ],
          "name": "stdout"
        },
        {
          "output_type": "stream",
          "text": [
            "[Parallel(n_jobs=-1)]: Using backend LokyBackend with 2 concurrent workers.\n",
            "[Parallel(n_jobs=-1)]: Done  37 tasks      | elapsed:   24.3s\n",
            "[Parallel(n_jobs=-1)]: Done  40 out of  40 | elapsed:   25.1s finished\n"
          ],
          "name": "stderr"
        },
        {
          "output_type": "stream",
          "text": [
            "{'C': 10, 'gamma': 'scale', 'kernel': 'poly'}\n",
            "\n",
            "\n",
            "Results for model with features: ['pages_pc1' 'pages_pc2' 'pages_pc3' 'pages_pc4' 'pages_pc5' 'pages_pc6'\n",
            " 'returning_visitor']\n",
            "Accuracy: 90.39508747537944\n",
            "Precision: 78.24474660074165\n",
            "Recall: 49.22239502332815\n",
            "\n",
            "\n",
            "Results for model with features: ['pages_pc1' 'pages_pc2' 'pages_pc3' 'pages_pc4' 'pages_pc5' 'pages_pc6'\n",
            " 'returning_visitor']\n",
            "Accuracy: 88.51040821843742\n",
            "Precision: 75.98944591029023\n",
            "Recall: 46.30225080385852\n",
            "Fitting 5 folds for each of 8 candidates, totalling 40 fits\n"
          ],
          "name": "stdout"
        },
        {
          "output_type": "stream",
          "text": [
            "[Parallel(n_jobs=-1)]: Using backend LokyBackend with 2 concurrent workers.\n",
            "[Parallel(n_jobs=-1)]: Done  37 tasks      | elapsed:   27.4s\n",
            "[Parallel(n_jobs=-1)]: Done  40 out of  40 | elapsed:   28.2s finished\n"
          ],
          "name": "stderr"
        },
        {
          "output_type": "stream",
          "text": [
            "{'C': 10, 'gamma': 'scale', 'kernel': 'poly'}\n",
            "\n",
            "\n",
            "Results for model with features: ['pages_pc1' 'pages_pc2' 'pages_pc3' 'pages_pc4' 'pages_pc5' 'pages_pc6'\n",
            " 'SpecialDay']\n",
            "Accuracy: 90.33715676051443\n",
            "Precision: 76.34032634032634\n",
            "Recall: 50.93312597200622\n",
            "\n",
            "\n",
            "Results for model with features: ['pages_pc1' 'pages_pc2' 'pages_pc3' 'pages_pc4' 'pages_pc5' 'pages_pc6'\n",
            " 'SpecialDay']\n",
            "Accuracy: 88.56447688564477\n",
            "Precision: 75.18987341772151\n",
            "Recall: 47.7491961414791\n",
            "Fitting 5 folds for each of 8 candidates, totalling 40 fits\n"
          ],
          "name": "stdout"
        },
        {
          "output_type": "stream",
          "text": [
            "[Parallel(n_jobs=-1)]: Using backend LokyBackend with 2 concurrent workers.\n",
            "[Parallel(n_jobs=-1)]: Done  37 tasks      | elapsed:   24.9s\n",
            "[Parallel(n_jobs=-1)]: Done  40 out of  40 | elapsed:   25.8s finished\n"
          ],
          "name": "stderr"
        },
        {
          "output_type": "stream",
          "text": [
            "{'C': 10, 'gamma': 'scale', 'kernel': 'poly'}\n",
            "\n",
            "\n",
            "Results for model with features: ['pages_pc1' 'pages_pc2' 'pages_pc3' 'pages_pc4' 'pages_pc5' 'pages_pc6'\n",
            " 'is_weekend' 'returning_visitor']\n",
            "Accuracy: 90.32557061754142\n",
            "Precision: 78.58048162230672\n",
            "Recall: 48.21150855365474\n",
            "\n",
            "\n",
            "Results for model with features: ['pages_pc1' 'pages_pc2' 'pages_pc3' 'pages_pc4' 'pages_pc5' 'pages_pc6'\n",
            " 'is_weekend' 'returning_visitor']\n",
            "Accuracy: 88.53744255204109\n",
            "Precision: 76.32978723404256\n",
            "Recall: 46.141479099678456\n",
            "Fitting 5 folds for each of 8 candidates, totalling 40 fits\n"
          ],
          "name": "stdout"
        },
        {
          "output_type": "stream",
          "text": [
            "[Parallel(n_jobs=-1)]: Using backend LokyBackend with 2 concurrent workers.\n",
            "[Parallel(n_jobs=-1)]: Done  37 tasks      | elapsed:   25.9s\n",
            "[Parallel(n_jobs=-1)]: Done  40 out of  40 | elapsed:   26.8s finished\n"
          ],
          "name": "stderr"
        },
        {
          "output_type": "stream",
          "text": [
            "{'C': 10, 'gamma': 'scale', 'kernel': 'rbf'}\n",
            "\n",
            "\n",
            "Results for model with features: ['pages_pc1' 'pages_pc2' 'pages_pc3' 'pages_pc4' 'pages_pc5' 'pages_pc6'\n",
            " 'is_weekend' 'SpecialDay']\n",
            "Accuracy: 90.96280848105665\n",
            "Precision: 78.04878048780488\n",
            "Recall: 54.74339035769829\n",
            "\n",
            "\n",
            "Results for model with features: ['pages_pc1' 'pages_pc2' 'pages_pc3' 'pages_pc4' 'pages_pc5' 'pages_pc6'\n",
            " 'is_weekend' 'SpecialDay']\n",
            "Accuracy: 88.67261422005947\n",
            "Precision: 74.34052757793765\n",
            "Recall: 49.839228295819936\n",
            "Fitting 5 folds for each of 8 candidates, totalling 40 fits\n"
          ],
          "name": "stdout"
        },
        {
          "output_type": "stream",
          "text": [
            "[Parallel(n_jobs=-1)]: Using backend LokyBackend with 2 concurrent workers.\n",
            "[Parallel(n_jobs=-1)]: Done  37 tasks      | elapsed:   23.4s\n",
            "[Parallel(n_jobs=-1)]: Done  40 out of  40 | elapsed:   24.3s finished\n"
          ],
          "name": "stderr"
        },
        {
          "output_type": "stream",
          "text": [
            "{'C': 10, 'gamma': 'scale', 'kernel': 'rbf'}\n",
            "\n",
            "\n",
            "Results for model with features: ['pages_pc1' 'pages_pc2' 'pages_pc3' 'pages_pc4' 'pages_pc5' 'pages_pc6'\n",
            " 'returning_visitor' 'SpecialDay']\n",
            "Accuracy: 90.5457073340285\n",
            "Precision: 76.82648401826484\n",
            "Recall: 52.332814930015545\n",
            "\n",
            "\n",
            "Results for model with features: ['pages_pc1' 'pages_pc2' 'pages_pc3' 'pages_pc4' 'pages_pc5' 'pages_pc6'\n",
            " 'returning_visitor' 'SpecialDay']\n",
            "Accuracy: 88.42930521762639\n",
            "Precision: 74.25\n",
            "Recall: 47.7491961414791\n",
            "Fitting 5 folds for each of 8 candidates, totalling 40 fits\n"
          ],
          "name": "stdout"
        },
        {
          "output_type": "stream",
          "text": [
            "[Parallel(n_jobs=-1)]: Using backend LokyBackend with 2 concurrent workers.\n",
            "[Parallel(n_jobs=-1)]: Done  37 tasks      | elapsed:   23.5s\n",
            "[Parallel(n_jobs=-1)]: Done  40 out of  40 | elapsed:   24.5s finished\n"
          ],
          "name": "stderr"
        },
        {
          "output_type": "stream",
          "text": [
            "{'C': 10, 'gamma': 'scale', 'kernel': 'rbf'}\n",
            "\n",
            "\n",
            "Results for model with features: ['pages_pc1' 'pages_pc2' 'pages_pc3' 'pages_pc4' 'pages_pc5' 'pages_pc6'\n",
            " 'is_weekend' 'returning_visitor' 'SpecialDay']\n",
            "Accuracy: 90.73108562159658\n",
            "Precision: 78.65566037735849\n",
            "Recall: 51.86625194401244\n",
            "\n",
            "\n",
            "Results for model with features: ['pages_pc1' 'pages_pc2' 'pages_pc3' 'pages_pc4' 'pages_pc5' 'pages_pc6'\n",
            " 'is_weekend' 'returning_visitor' 'SpecialDay']\n",
            "Accuracy: 88.78075155447418\n",
            "Precision: 76.47058823529412\n",
            "Recall: 48.07073954983923\n",
            "Fitting 5 folds for each of 8 candidates, totalling 40 fits\n"
          ],
          "name": "stdout"
        },
        {
          "output_type": "stream",
          "text": [
            "[Parallel(n_jobs=-1)]: Using backend LokyBackend with 2 concurrent workers.\n",
            "[Parallel(n_jobs=-1)]: Done  37 tasks      | elapsed:   26.1s\n",
            "[Parallel(n_jobs=-1)]: Done  40 out of  40 | elapsed:   26.9s finished\n"
          ],
          "name": "stderr"
        },
        {
          "output_type": "stream",
          "text": [
            "{'C': 10, 'gamma': 'scale', 'kernel': 'rbf'}\n",
            "\n",
            "\n",
            "Results for model with features: ['pages_pc1' 'pages_pc2' 'pages_pc3' 'pages_pc4' 'pages_pc5' 'is_weekend']\n",
            "Accuracy: 90.55729347700151\n",
            "Precision: 75.96471885336274\n",
            "Recall: 53.576982892690516\n",
            "\n",
            "\n",
            "Results for model with features: ['pages_pc1' 'pages_pc2' 'pages_pc3' 'pages_pc4' 'pages_pc5' 'is_weekend']\n",
            "Accuracy: 88.42930521762639\n",
            "Precision: 73.09523809523809\n",
            "Recall: 49.356913183279744\n",
            "Fitting 5 folds for each of 8 candidates, totalling 40 fits\n"
          ],
          "name": "stdout"
        },
        {
          "output_type": "stream",
          "text": [
            "[Parallel(n_jobs=-1)]: Using backend LokyBackend with 2 concurrent workers.\n",
            "[Parallel(n_jobs=-1)]: Done  37 tasks      | elapsed:   24.9s\n",
            "[Parallel(n_jobs=-1)]: Done  40 out of  40 | elapsed:   25.7s finished\n"
          ],
          "name": "stderr"
        },
        {
          "output_type": "stream",
          "text": [
            "{'C': 10, 'gamma': 'scale', 'kernel': 'rbf'}\n",
            "\n",
            "\n",
            "Results for model with features: ['pages_pc1' 'pages_pc2' 'pages_pc3' 'pages_pc4' 'pages_pc5'\n",
            " 'returning_visitor']\n",
            "Accuracy: 90.30239833159541\n",
            "Precision: 76.25730994152048\n",
            "Recall: 50.69984447900466\n",
            "\n",
            "\n",
            "Results for model with features: ['pages_pc1' 'pages_pc2' 'pages_pc3' 'pages_pc4' 'pages_pc5'\n",
            " 'returning_visitor']\n",
            "Accuracy: 88.10489321438226\n",
            "Precision: 72.52475247524752\n",
            "Recall: 47.10610932475884\n",
            "Fitting 5 folds for each of 8 candidates, totalling 40 fits\n"
          ],
          "name": "stdout"
        },
        {
          "output_type": "stream",
          "text": [
            "[Parallel(n_jobs=-1)]: Using backend LokyBackend with 2 concurrent workers.\n",
            "[Parallel(n_jobs=-1)]: Done  37 tasks      | elapsed:   26.5s\n",
            "[Parallel(n_jobs=-1)]: Done  40 out of  40 | elapsed:   27.4s finished\n"
          ],
          "name": "stderr"
        },
        {
          "output_type": "stream",
          "text": [
            "{'C': 10, 'gamma': 'scale', 'kernel': 'rbf'}\n",
            "\n",
            "\n",
            "Results for model with features: ['pages_pc1' 'pages_pc2' 'pages_pc3' 'pages_pc4' 'pages_pc5' 'SpecialDay']\n",
            "Accuracy: 90.49936276213649\n",
            "Precision: 75.10775862068965\n",
            "Recall: 54.19906687402799\n",
            "\n",
            "\n",
            "Results for model with features: ['pages_pc1' 'pages_pc2' 'pages_pc3' 'pages_pc4' 'pages_pc5' 'SpecialDay']\n",
            "Accuracy: 88.13192754798594\n",
            "Precision: 71.42857142857143\n",
            "Recall: 49.035369774919616\n",
            "Fitting 5 folds for each of 8 candidates, totalling 40 fits\n"
          ],
          "name": "stdout"
        },
        {
          "output_type": "stream",
          "text": [
            "[Parallel(n_jobs=-1)]: Using backend LokyBackend with 2 concurrent workers.\n",
            "[Parallel(n_jobs=-1)]: Done  37 tasks      | elapsed:   25.4s\n",
            "[Parallel(n_jobs=-1)]: Done  40 out of  40 | elapsed:   26.4s finished\n"
          ],
          "name": "stderr"
        },
        {
          "output_type": "stream",
          "text": [
            "{'C': 10, 'gamma': 'scale', 'kernel': 'poly'}\n",
            "\n",
            "\n",
            "Results for model with features: ['pages_pc1' 'pages_pc2' 'pages_pc3' 'pages_pc4' 'pages_pc5' 'is_weekend'\n",
            " 'returning_visitor']\n",
            "Accuracy: 90.18653690186537\n",
            "Precision: 77.47183979974969\n",
            "Recall: 48.13374805598756\n",
            "\n",
            "\n",
            "Results for model with features: ['pages_pc1' 'pages_pc2' 'pages_pc3' 'pages_pc4' 'pages_pc5' 'is_weekend'\n",
            " 'returning_visitor']\n",
            "Accuracy: 88.34820221681535\n",
            "Precision: 76.16438356164383\n",
            "Recall: 44.69453376205787\n",
            "Fitting 5 folds for each of 8 candidates, totalling 40 fits\n"
          ],
          "name": "stdout"
        },
        {
          "output_type": "stream",
          "text": [
            "[Parallel(n_jobs=-1)]: Using backend LokyBackend with 2 concurrent workers.\n",
            "[Parallel(n_jobs=-1)]: Done  37 tasks      | elapsed:   26.6s\n",
            "[Parallel(n_jobs=-1)]: Done  40 out of  40 | elapsed:   27.6s finished\n"
          ],
          "name": "stderr"
        },
        {
          "output_type": "stream",
          "text": [
            "{'C': 10, 'gamma': 'scale', 'kernel': 'rbf'}\n",
            "\n",
            "\n",
            "Results for model with features: ['pages_pc1' 'pages_pc2' 'pages_pc3' 'pages_pc4' 'pages_pc5' 'is_weekend'\n",
            " 'SpecialDay']\n",
            "Accuracy: 90.71949947862356\n",
            "Precision: 76.67766776677668\n",
            "Recall: 54.19906687402799\n",
            "\n",
            "\n",
            "Results for model with features: ['pages_pc1' 'pages_pc2' 'pages_pc3' 'pages_pc4' 'pages_pc5' 'is_weekend'\n",
            " 'SpecialDay']\n",
            "Accuracy: 88.64557988645579\n",
            "Precision: 73.82075471698113\n",
            "Recall: 50.32154340836013\n",
            "Fitting 5 folds for each of 8 candidates, totalling 40 fits\n"
          ],
          "name": "stdout"
        },
        {
          "output_type": "stream",
          "text": [
            "[Parallel(n_jobs=-1)]: Using backend LokyBackend with 2 concurrent workers.\n",
            "[Parallel(n_jobs=-1)]: Done  37 tasks      | elapsed:   23.9s\n",
            "[Parallel(n_jobs=-1)]: Done  40 out of  40 | elapsed:   24.6s finished\n"
          ],
          "name": "stderr"
        },
        {
          "output_type": "stream",
          "text": [
            "{'C': 10, 'gamma': 'scale', 'kernel': 'rbf'}\n",
            "\n",
            "\n",
            "Results for model with features: ['pages_pc1' 'pages_pc2' 'pages_pc3' 'pages_pc4' 'pages_pc5'\n",
            " 'returning_visitor' 'SpecialDay']\n",
            "Accuracy: 90.33715676051443\n",
            "Precision: 75.79908675799086\n",
            "Recall: 51.632970451010884\n",
            "\n",
            "\n",
            "Results for model with features: ['pages_pc1' 'pages_pc2' 'pages_pc3' 'pages_pc4' 'pages_pc5'\n",
            " 'returning_visitor' 'SpecialDay']\n",
            "Accuracy: 88.24006488240065\n",
            "Precision: 73.43358395989975\n",
            "Recall: 47.10610932475884\n",
            "Fitting 5 folds for each of 8 candidates, totalling 40 fits\n"
          ],
          "name": "stdout"
        },
        {
          "output_type": "stream",
          "text": [
            "[Parallel(n_jobs=-1)]: Using backend LokyBackend with 2 concurrent workers.\n",
            "[Parallel(n_jobs=-1)]: Done  37 tasks      | elapsed:   24.7s\n",
            "[Parallel(n_jobs=-1)]: Done  40 out of  40 | elapsed:   25.5s finished\n"
          ],
          "name": "stderr"
        },
        {
          "output_type": "stream",
          "text": [
            "{'C': 10, 'gamma': 'scale', 'kernel': 'poly'}\n",
            "\n",
            "\n",
            "Results for model with features: ['pages_pc1' 'pages_pc2' 'pages_pc3' 'pages_pc4' 'pages_pc5' 'is_weekend'\n",
            " 'returning_visitor' 'SpecialDay']\n",
            "Accuracy: 90.27922604564941\n",
            "Precision: 77.83312577833127\n",
            "Recall: 48.600311041990665\n",
            "\n",
            "\n",
            "Results for model with features: ['pages_pc1' 'pages_pc2' 'pages_pc3' 'pages_pc4' 'pages_pc5' 'is_weekend'\n",
            " 'returning_visitor' 'SpecialDay']\n",
            "Accuracy: 88.4022708840227\n",
            "Precision: 76.43835616438356\n",
            "Recall: 44.855305466237944\n",
            "Fitting 5 folds for each of 8 candidates, totalling 40 fits\n"
          ],
          "name": "stdout"
        },
        {
          "output_type": "stream",
          "text": [
            "[Parallel(n_jobs=-1)]: Using backend LokyBackend with 2 concurrent workers.\n",
            "[Parallel(n_jobs=-1)]: Done  37 tasks      | elapsed:   21.0s\n",
            "[Parallel(n_jobs=-1)]: Done  40 out of  40 | elapsed:   21.9s finished\n"
          ],
          "name": "stderr"
        },
        {
          "output_type": "stream",
          "text": [
            "{'C': 10, 'gamma': 'scale', 'kernel': 'rbf'}\n",
            "\n",
            "\n",
            "Results for model with features: ['pages_pc1' 'pages_pc2' 'pages_pc3' 'pages_pc4' 'is_weekend']\n",
            "Accuracy: 89.78102189781022\n",
            "Precision: 75.63451776649747\n",
            "Recall: 46.3452566096423\n",
            "\n",
            "\n",
            "Results for model with features: ['pages_pc1' 'pages_pc2' 'pages_pc3' 'pages_pc4' 'is_weekend']\n",
            "Accuracy: 87.86158421194918\n",
            "Precision: 74.09470752089136\n",
            "Recall: 42.765273311897104\n",
            "Fitting 5 folds for each of 8 candidates, totalling 40 fits\n"
          ],
          "name": "stdout"
        },
        {
          "output_type": "stream",
          "text": [
            "[Parallel(n_jobs=-1)]: Using backend LokyBackend with 2 concurrent workers.\n",
            "[Parallel(n_jobs=-1)]: Done  37 tasks      | elapsed:   18.3s\n",
            "[Parallel(n_jobs=-1)]: Done  40 out of  40 | elapsed:   19.2s finished\n"
          ],
          "name": "stderr"
        },
        {
          "output_type": "stream",
          "text": [
            "{'C': 10, 'gamma': 'scale', 'kernel': 'rbf'}\n",
            "\n",
            "\n",
            "Results for model with features: ['pages_pc1' 'pages_pc2' 'pages_pc3' 'pages_pc4' 'returning_visitor']\n",
            "Accuracy: 89.68833275402619\n",
            "Precision: 76.4\n",
            "Recall: 44.556765163297044\n",
            "\n",
            "\n",
            "Results for model with features: ['pages_pc1' 'pages_pc2' 'pages_pc3' 'pages_pc4' 'returning_visitor']\n",
            "Accuracy: 87.72641254393079\n",
            "Precision: 74.27745664739885\n",
            "Recall: 41.31832797427653\n",
            "Fitting 5 folds for each of 8 candidates, totalling 40 fits\n"
          ],
          "name": "stdout"
        },
        {
          "output_type": "stream",
          "text": [
            "[Parallel(n_jobs=-1)]: Using backend LokyBackend with 2 concurrent workers.\n",
            "[Parallel(n_jobs=-1)]: Done  37 tasks      | elapsed:   21.8s\n",
            "[Parallel(n_jobs=-1)]: Done  40 out of  40 | elapsed:   22.7s finished\n"
          ],
          "name": "stderr"
        },
        {
          "output_type": "stream",
          "text": [
            "{'C': 10, 'gamma': 'scale', 'kernel': 'rbf'}\n",
            "\n",
            "\n",
            "Results for model with features: ['pages_pc1' 'pages_pc2' 'pages_pc3' 'pages_pc4' 'SpecialDay']\n",
            "Accuracy: 89.83895261267524\n",
            "Precision: 76.1843790012804\n",
            "Recall: 46.26749611197511\n",
            "\n",
            "\n",
            "Results for model with features: ['pages_pc1' 'pages_pc2' 'pages_pc3' 'pages_pc4' 'SpecialDay']\n",
            "Accuracy: 87.99675587996757\n",
            "Precision: 74.31693989071039\n",
            "Recall: 43.729903536977496\n",
            "Fitting 5 folds for each of 8 candidates, totalling 40 fits\n"
          ],
          "name": "stdout"
        },
        {
          "output_type": "stream",
          "text": [
            "[Parallel(n_jobs=-1)]: Using backend LokyBackend with 2 concurrent workers.\n",
            "[Parallel(n_jobs=-1)]: Done  37 tasks      | elapsed:   18.8s\n",
            "[Parallel(n_jobs=-1)]: Done  40 out of  40 | elapsed:   19.6s finished\n"
          ],
          "name": "stderr"
        },
        {
          "output_type": "stream",
          "text": [
            "{'C': 10, 'gamma': 'scale', 'kernel': 'rbf'}\n",
            "\n",
            "\n",
            "Results for model with features: ['pages_pc1' 'pages_pc2' 'pages_pc3' 'pages_pc4' 'is_weekend'\n",
            " 'returning_visitor']\n",
            "Accuracy: 89.76943575483722\n",
            "Precision: 77.56497948016415\n",
            "Recall: 44.09020217729393\n",
            "\n",
            "\n",
            "Results for model with features: ['pages_pc1' 'pages_pc2' 'pages_pc3' 'pages_pc4' 'is_weekend'\n",
            " 'returning_visitor']\n",
            "Accuracy: 87.80751554474182\n",
            "Precision: 75.37091988130564\n",
            "Recall: 40.836012861736336\n",
            "Fitting 5 folds for each of 8 candidates, totalling 40 fits\n"
          ],
          "name": "stdout"
        },
        {
          "output_type": "stream",
          "text": [
            "[Parallel(n_jobs=-1)]: Using backend LokyBackend with 2 concurrent workers.\n",
            "[Parallel(n_jobs=-1)]: Done  37 tasks      | elapsed:   21.0s\n",
            "[Parallel(n_jobs=-1)]: Done  40 out of  40 | elapsed:   22.1s finished\n"
          ],
          "name": "stderr"
        },
        {
          "output_type": "stream",
          "text": [
            "{'C': 10, 'gamma': 'scale', 'kernel': 'rbf'}\n",
            "\n",
            "\n",
            "Results for model with features: ['pages_pc1' 'pages_pc2' 'pages_pc3' 'pages_pc4' 'is_weekend' 'SpecialDay']\n",
            "Accuracy: 89.83895261267524\n",
            "Precision: 75.78814627994956\n",
            "Recall: 46.734059097978225\n",
            "\n",
            "\n",
            "Results for model with features: ['pages_pc1' 'pages_pc2' 'pages_pc3' 'pages_pc4' 'is_weekend' 'SpecialDay']\n",
            "Accuracy: 87.96972154636387\n",
            "Precision: 74.3801652892562\n",
            "Recall: 43.40836012861736\n",
            "Fitting 5 folds for each of 8 candidates, totalling 40 fits\n"
          ],
          "name": "stdout"
        },
        {
          "output_type": "stream",
          "text": [
            "[Parallel(n_jobs=-1)]: Using backend LokyBackend with 2 concurrent workers.\n",
            "[Parallel(n_jobs=-1)]: Done  37 tasks      | elapsed:   18.3s\n",
            "[Parallel(n_jobs=-1)]: Done  40 out of  40 | elapsed:   19.2s finished\n"
          ],
          "name": "stderr"
        },
        {
          "output_type": "stream",
          "text": [
            "{'C': 10, 'gamma': 'scale', 'kernel': 'rbf'}\n",
            "\n",
            "\n",
            "Results for model with features: ['pages_pc1' 'pages_pc2' 'pages_pc3' 'pages_pc4' 'returning_visitor'\n",
            " 'SpecialDay']\n",
            "Accuracy: 89.76943575483722\n",
            "Precision: 76.47831800262811\n",
            "Recall: 45.25660964230171\n",
            "\n",
            "\n",
            "Results for model with features: ['pages_pc1' 'pages_pc2' 'pages_pc3' 'pages_pc4' 'returning_visitor'\n",
            " 'SpecialDay']\n",
            "Accuracy: 87.72641254393079\n",
            "Precision: 74.13793103448276\n",
            "Recall: 41.47909967845659\n",
            "Fitting 5 folds for each of 8 candidates, totalling 40 fits\n"
          ],
          "name": "stdout"
        },
        {
          "output_type": "stream",
          "text": [
            "[Parallel(n_jobs=-1)]: Using backend LokyBackend with 2 concurrent workers.\n",
            "[Parallel(n_jobs=-1)]: Done  37 tasks      | elapsed:   19.1s\n",
            "[Parallel(n_jobs=-1)]: Done  40 out of  40 | elapsed:   19.9s finished\n"
          ],
          "name": "stderr"
        },
        {
          "output_type": "stream",
          "text": [
            "{'C': 10, 'gamma': 'scale', 'kernel': 'rbf'}\n",
            "\n",
            "\n",
            "Results for model with features: ['pages_pc1' 'pages_pc2' 'pages_pc3' 'pages_pc4' 'is_weekend'\n",
            " 'returning_visitor' 'SpecialDay']\n",
            "Accuracy: 89.80419418375622\n",
            "Precision: 77.06666666666668\n",
            "Recall: 44.94556765163297\n",
            "\n",
            "\n",
            "Results for model with features: ['pages_pc1' 'pages_pc2' 'pages_pc3' 'pages_pc4' 'is_weekend'\n",
            " 'returning_visitor' 'SpecialDay']\n",
            "Accuracy: 87.78048121113815\n",
            "Precision: 75.0\n",
            "Recall: 40.9967845659164\n"
          ],
          "name": "stdout"
        }
      ]
    },
    {
      "cell_type": "markdown",
      "metadata": {
        "id": "BNBSDiyxVALn",
        "colab_type": "text"
      },
      "source": [
        "# Identify best candidate model"
      ]
    },
    {
      "cell_type": "code",
      "metadata": {
        "id": "Hb8O6KhU2SgG",
        "colab_type": "code",
        "outputId": "28871de6-b09d-4e61-941f-eafa4d1168f0",
        "colab": {
          "base_uri": "https://localhost:8080/",
          "height": 374
        }
      },
      "source": [
        "for features, met in train_results.items():\n",
        "  # print(features)\n",
        "  # print(met['accuracy'])\n",
        "  # print(met['precision'])\n",
        "  print(met['recall'])"
      ],
      "execution_count": 0,
      "outputs": [
        {
          "output_type": "stream",
          "text": [
            "53.810264385692065\n",
            "49.22239502332815\n",
            "50.93312597200622\n",
            "48.21150855365474\n",
            "54.74339035769829\n",
            "52.332814930015545\n",
            "51.86625194401244\n",
            "53.576982892690516\n",
            "50.69984447900466\n",
            "54.19906687402799\n",
            "48.13374805598756\n",
            "54.19906687402799\n",
            "51.632970451010884\n",
            "48.600311041990665\n",
            "46.3452566096423\n",
            "44.556765163297044\n",
            "46.26749611197511\n",
            "44.09020217729393\n",
            "46.734059097978225\n",
            "45.25660964230171\n",
            "44.94556765163297\n"
          ],
          "name": "stdout"
        }
      ]
    },
    {
      "cell_type": "code",
      "metadata": {
        "id": "txd2ZzmU4mZo",
        "colab_type": "code",
        "outputId": "c3afbe3f-66bf-40db-850c-795f67d5ba54",
        "colab": {
          "base_uri": "https://localhost:8080/",
          "height": 374
        }
      },
      "source": [
        "for features, met in test_results.items():\n",
        "  # print(features)\n",
        "  # print(met['accuracy'])\n",
        "  # print(met['precision'])\n",
        "  print(met['recall'])"
      ],
      "execution_count": 0,
      "outputs": [
        {
          "output_type": "stream",
          "text": [
            "48.87459807073955\n",
            "46.30225080385852\n",
            "47.7491961414791\n",
            "46.141479099678456\n",
            "49.839228295819936\n",
            "47.7491961414791\n",
            "48.07073954983923\n",
            "49.356913183279744\n",
            "47.10610932475884\n",
            "49.035369774919616\n",
            "44.69453376205787\n",
            "50.32154340836013\n",
            "47.10610932475884\n",
            "44.855305466237944\n",
            "42.765273311897104\n",
            "41.31832797427653\n",
            "43.729903536977496\n",
            "40.836012861736336\n",
            "43.40836012861736\n",
            "41.47909967845659\n",
            "40.9967845659164\n"
          ],
          "name": "stdout"
        }
      ]
    },
    {
      "cell_type": "markdown",
      "metadata": {
        "id": "fhsqGeOB5gFR",
        "colab_type": "text"
      },
      "source": [
        "# Fit best candidate model"
      ]
    },
    {
      "cell_type": "code",
      "metadata": {
        "id": "gTWoU86v5kO8",
        "colab_type": "code",
        "outputId": "3cab161a-4190-4d36-8274-85e41c46cf68",
        "colab": {
          "base_uri": "https://localhost:8080/",
          "height": 241
        }
      },
      "source": [
        "# x = pd.concat( [df_pages_pca, df_shop.loc[:, ['is_weekend', 'SpecialDay']]], axis=1 )\n",
        "x = df_pages_pca\n",
        "y = df_shop['purchase']\n",
        "\n",
        "x_train, x_test, y_train, y_test = train_test_split(x, y, test_size=0.3, random_state=0)\n",
        "\n",
        "lr_model = LogisticRegression(C=1, solver='lbfgs')\n",
        "best_model = lr_model.fit(x_train, y_train)\n",
        "\n",
        "train_results = {}\n",
        "evaluate(model=best_model, x_test=x_train, y_test=y_train, results=train_results)\n",
        "test_results = {}\n",
        "evaluate(model=best_model, x_test=x_test, y_test=y_test, results=test_results)"
      ],
      "execution_count": 59,
      "outputs": [
        {
          "output_type": "stream",
          "text": [
            "\n",
            "\n",
            "Results for model with features: ['pages_pc1' 'pages_pc2' 'pages_pc3' 'pages_pc4' 'pages_pc5' 'pages_pc6']\n",
            "Accuracy: 89.96640018537829\n",
            "Precision: 68.19757365684576\n",
            "Recall: 61.19751166407465\n",
            "\n",
            "\n",
            "Results for model with features: ['pages_pc1' 'pages_pc2' 'pages_pc3' 'pages_pc4' 'pages_pc5' 'pages_pc6']\n",
            "Accuracy: 88.75371722087051\n",
            "Precision: 69.8076923076923\n",
            "Recall: 58.36012861736335\n"
          ],
          "name": "stdout"
        }
      ]
    },
    {
      "cell_type": "code",
      "metadata": {
        "id": "pI3a88h0S1XI",
        "colab_type": "code",
        "colab": {
          "base_uri": "https://localhost:8080/",
          "height": 317
        },
        "outputId": "6c79a617-676a-4322-bbe3-f51e84f9236e"
      },
      "source": [
        "print(best_model.classes_)\n",
        "print(best_model.coef_)"
      ],
      "execution_count": 58,
      "outputs": [
        {
          "output_type": "stream",
          "text": [
            "[0 1]\n"
          ],
          "name": "stdout"
        },
        {
          "output_type": "error",
          "ename": "AttributeError",
          "evalue": "ignored",
          "traceback": [
            "\u001b[0;31m---------------------------------------------------------------------------\u001b[0m",
            "\u001b[0;31mAttributeError\u001b[0m                            Traceback (most recent call last)",
            "\u001b[0;32m<ipython-input-58-69e55b1549fa>\u001b[0m in \u001b[0;36m<module>\u001b[0;34m()\u001b[0m\n\u001b[1;32m      1\u001b[0m \u001b[0mprint\u001b[0m\u001b[0;34m(\u001b[0m\u001b[0mbest_model\u001b[0m\u001b[0;34m.\u001b[0m\u001b[0mclasses_\u001b[0m\u001b[0;34m)\u001b[0m\u001b[0;34m\u001b[0m\u001b[0;34m\u001b[0m\u001b[0m\n\u001b[0;32m----> 2\u001b[0;31m \u001b[0mprint\u001b[0m\u001b[0;34m(\u001b[0m\u001b[0mbest_model\u001b[0m\u001b[0;34m.\u001b[0m\u001b[0mcoef_\u001b[0m\u001b[0;34m)\u001b[0m\u001b[0;34m\u001b[0m\u001b[0;34m\u001b[0m\u001b[0m\n\u001b[0m",
            "\u001b[0;32m/usr/local/lib/python3.6/dist-packages/sklearn/svm/_base.py\u001b[0m in \u001b[0;36mcoef_\u001b[0;34m(self)\u001b[0m\n\u001b[1;32m    471\u001b[0m     \u001b[0;32mdef\u001b[0m \u001b[0mcoef_\u001b[0m\u001b[0;34m(\u001b[0m\u001b[0mself\u001b[0m\u001b[0;34m)\u001b[0m\u001b[0;34m:\u001b[0m\u001b[0;34m\u001b[0m\u001b[0;34m\u001b[0m\u001b[0m\n\u001b[1;32m    472\u001b[0m         \u001b[0;32mif\u001b[0m \u001b[0mself\u001b[0m\u001b[0;34m.\u001b[0m\u001b[0mkernel\u001b[0m \u001b[0;34m!=\u001b[0m \u001b[0;34m'linear'\u001b[0m\u001b[0;34m:\u001b[0m\u001b[0;34m\u001b[0m\u001b[0;34m\u001b[0m\u001b[0m\n\u001b[0;32m--> 473\u001b[0;31m             raise AttributeError('coef_ is only available when using a '\n\u001b[0m\u001b[1;32m    474\u001b[0m                                  'linear kernel')\n\u001b[1;32m    475\u001b[0m \u001b[0;34m\u001b[0m\u001b[0m\n",
            "\u001b[0;31mAttributeError\u001b[0m: coef_ is only available when using a linear kernel"
          ]
        }
      ]
    },
    {
      "cell_type": "code",
      "metadata": {
        "id": "JsFSCfndfKl6",
        "colab_type": "code",
        "colab": {}
      },
      "source": [
        "def odds_and_probs(train, label, binaryVar):\n",
        "  df = train[train[label] == 1].groupby(train[binaryVar]).count()[[label]]\n",
        "  df['Total'] = train[label].groupby(train[binaryVar]).count()\n",
        "  df['not_' + label] = df.Total - df[label]\n",
        "  df['OddsOF' + label] = df[label] / df['not_' + label]\n",
        "  df['ProbOF' + label] = df[label] / df.Total\n",
        "  df['Log(OddsOF' + label + ')'] = np.log(df['OddsOF' + label])\n",
        "\n",
        "  return df"
      ],
      "execution_count": 0,
      "outputs": []
    },
    {
      "cell_type": "code",
      "metadata": {
        "id": "3MnUaRY1krOb",
        "colab_type": "code",
        "colab": {
          "base_uri": "https://localhost:8080/",
          "height": 142
        },
        "outputId": "c9c9e63f-e6f6-466f-d2db-f84f0c4626f0"
      },
      "source": [
        "df_weekend = odds_and_probs(train=df_shop, label='purchase', binaryVar='is_weekend')\n",
        "df_weekend"
      ],
      "execution_count": 36,
      "outputs": [
        {
          "output_type": "execute_result",
          "data": {
            "text/html": [
              "<div>\n",
              "<style scoped>\n",
              "    .dataframe tbody tr th:only-of-type {\n",
              "        vertical-align: middle;\n",
              "    }\n",
              "\n",
              "    .dataframe tbody tr th {\n",
              "        vertical-align: top;\n",
              "    }\n",
              "\n",
              "    .dataframe thead th {\n",
              "        text-align: right;\n",
              "    }\n",
              "</style>\n",
              "<table border=\"1\" class=\"dataframe\">\n",
              "  <thead>\n",
              "    <tr style=\"text-align: right;\">\n",
              "      <th></th>\n",
              "      <th>purchase</th>\n",
              "      <th>Total</th>\n",
              "      <th>not_purchase</th>\n",
              "      <th>OddsOFpurchase</th>\n",
              "      <th>ProbOFpurchase</th>\n",
              "      <th>Log(OddsOFpurchase)</th>\n",
              "    </tr>\n",
              "    <tr>\n",
              "      <th>is_weekend</th>\n",
              "      <th></th>\n",
              "      <th></th>\n",
              "      <th></th>\n",
              "      <th></th>\n",
              "      <th></th>\n",
              "      <th></th>\n",
              "    </tr>\n",
              "  </thead>\n",
              "  <tbody>\n",
              "    <tr>\n",
              "      <th>0</th>\n",
              "      <td>1409</td>\n",
              "      <td>9462</td>\n",
              "      <td>8053</td>\n",
              "      <td>0.174966</td>\n",
              "      <td>0.148911</td>\n",
              "      <td>-1.743164</td>\n",
              "    </tr>\n",
              "    <tr>\n",
              "      <th>1</th>\n",
              "      <td>499</td>\n",
              "      <td>2868</td>\n",
              "      <td>2369</td>\n",
              "      <td>0.210637</td>\n",
              "      <td>0.173989</td>\n",
              "      <td>-1.557617</td>\n",
              "    </tr>\n",
              "  </tbody>\n",
              "</table>\n",
              "</div>"
            ],
            "text/plain": [
              "            purchase  Total  ...  ProbOFpurchase  Log(OddsOFpurchase)\n",
              "is_weekend                   ...                                     \n",
              "0               1409   9462  ...        0.148911            -1.743164\n",
              "1                499   2868  ...        0.173989            -1.557617\n",
              "\n",
              "[2 rows x 6 columns]"
            ]
          },
          "metadata": {
            "tags": []
          },
          "execution_count": 36
        }
      ]
    },
    {
      "cell_type": "code",
      "metadata": {
        "id": "QJCqjUmalikF",
        "colab_type": "code",
        "colab": {
          "base_uri": "https://localhost:8080/",
          "height": 266
        },
        "outputId": "bb0a7d25-ffab-4494-dad3-de95a717e7cc"
      },
      "source": [
        "df_SpecialDay = odds_and_probs(train=df_shop, label='purchase', binaryVar='SpecialDay')\n",
        "df_SpecialDay"
      ],
      "execution_count": 37,
      "outputs": [
        {
          "output_type": "execute_result",
          "data": {
            "text/html": [
              "<div>\n",
              "<style scoped>\n",
              "    .dataframe tbody tr th:only-of-type {\n",
              "        vertical-align: middle;\n",
              "    }\n",
              "\n",
              "    .dataframe tbody tr th {\n",
              "        vertical-align: top;\n",
              "    }\n",
              "\n",
              "    .dataframe thead th {\n",
              "        text-align: right;\n",
              "    }\n",
              "</style>\n",
              "<table border=\"1\" class=\"dataframe\">\n",
              "  <thead>\n",
              "    <tr style=\"text-align: right;\">\n",
              "      <th></th>\n",
              "      <th>purchase</th>\n",
              "      <th>Total</th>\n",
              "      <th>not_purchase</th>\n",
              "      <th>OddsOFpurchase</th>\n",
              "      <th>ProbOFpurchase</th>\n",
              "      <th>Log(OddsOFpurchase)</th>\n",
              "    </tr>\n",
              "    <tr>\n",
              "      <th>SpecialDay</th>\n",
              "      <th></th>\n",
              "      <th></th>\n",
              "      <th></th>\n",
              "      <th></th>\n",
              "      <th></th>\n",
              "      <th></th>\n",
              "    </tr>\n",
              "  </thead>\n",
              "  <tbody>\n",
              "    <tr>\n",
              "      <th>0.0</th>\n",
              "      <td>1831</td>\n",
              "      <td>11079</td>\n",
              "      <td>9248</td>\n",
              "      <td>0.197989</td>\n",
              "      <td>0.165268</td>\n",
              "      <td>-1.619545</td>\n",
              "    </tr>\n",
              "    <tr>\n",
              "      <th>0.2</th>\n",
              "      <td>14</td>\n",
              "      <td>178</td>\n",
              "      <td>164</td>\n",
              "      <td>0.085366</td>\n",
              "      <td>0.078652</td>\n",
              "      <td>-2.460809</td>\n",
              "    </tr>\n",
              "    <tr>\n",
              "      <th>0.4</th>\n",
              "      <td>13</td>\n",
              "      <td>243</td>\n",
              "      <td>230</td>\n",
              "      <td>0.056522</td>\n",
              "      <td>0.053498</td>\n",
              "      <td>-2.873130</td>\n",
              "    </tr>\n",
              "    <tr>\n",
              "      <th>0.6</th>\n",
              "      <td>29</td>\n",
              "      <td>351</td>\n",
              "      <td>322</td>\n",
              "      <td>0.090062</td>\n",
              "      <td>0.082621</td>\n",
              "      <td>-2.407256</td>\n",
              "    </tr>\n",
              "    <tr>\n",
              "      <th>0.8</th>\n",
              "      <td>11</td>\n",
              "      <td>325</td>\n",
              "      <td>314</td>\n",
              "      <td>0.035032</td>\n",
              "      <td>0.033846</td>\n",
              "      <td>-3.351498</td>\n",
              "    </tr>\n",
              "    <tr>\n",
              "      <th>1.0</th>\n",
              "      <td>10</td>\n",
              "      <td>154</td>\n",
              "      <td>144</td>\n",
              "      <td>0.069444</td>\n",
              "      <td>0.064935</td>\n",
              "      <td>-2.667228</td>\n",
              "    </tr>\n",
              "  </tbody>\n",
              "</table>\n",
              "</div>"
            ],
            "text/plain": [
              "            purchase  Total  ...  ProbOFpurchase  Log(OddsOFpurchase)\n",
              "SpecialDay                   ...                                     \n",
              "0.0             1831  11079  ...        0.165268            -1.619545\n",
              "0.2               14    178  ...        0.078652            -2.460809\n",
              "0.4               13    243  ...        0.053498            -2.873130\n",
              "0.6               29    351  ...        0.082621            -2.407256\n",
              "0.8               11    325  ...        0.033846            -3.351498\n",
              "1.0               10    154  ...        0.064935            -2.667228\n",
              "\n",
              "[6 rows x 6 columns]"
            ]
          },
          "metadata": {
            "tags": []
          },
          "execution_count": 37
        }
      ]
    },
    {
      "cell_type": "markdown",
      "metadata": {
        "id": "nvkGlR7Z_4oq",
        "colab_type": "text"
      },
      "source": [
        "# Plot ROC curve"
      ]
    },
    {
      "cell_type": "code",
      "metadata": {
        "id": "0vf5JPTg_rwi",
        "colab_type": "code",
        "outputId": "0d54fd75-49fd-4d9e-ac7d-83aa6e32db8c",
        "colab": {
          "base_uri": "https://localhost:8080/",
          "height": 295
        }
      },
      "source": [
        "probs = best_model.predict_proba(x_test)\n",
        "preds = probs[:,1]\n",
        "fpr, tpr, threshold = metrics.roc_curve(y_test, preds)\n",
        "\n",
        "roc_auc = metrics.auc(fpr, tpr)\n",
        "\n",
        "plt.title('Receiver Operating Characteristic Curve')\n",
        "plt.plot(fpr, tpr, 'b', label = 'ROC AUC = %0.2f' % roc_auc)\n",
        "plt.legend(loc = 'lower right')\n",
        "plt.plot([0, 1], [0, 1],'r--')\n",
        "plt.xlim([0, 1])\n",
        "plt.ylim([0, 1])\n",
        "plt.ylabel('True Positive Rate')\n",
        "plt.xlabel('False Positive Rate')\n",
        "plt.show()"
      ],
      "execution_count": 60,
      "outputs": [
        {
          "output_type": "display_data",
          "data": {
            "image/png": "[encoded data removed]",
            "text/plain": [
              "<Figure size 432x288 with 1 Axes>"
            ]
          },
          "metadata": {
            "tags": []
          }
        }
      ]
    },
    {
      "cell_type": "code",
      "metadata": {
        "id": "fbgc0wHJ65VG",
        "colab_type": "code",
        "outputId": "edbdaa3c-2d56-4534-b4e0-7904c68a1efc",
        "colab": {
          "base_uri": "https://localhost:8080/",
          "height": 295
        }
      },
      "source": [
        "precision, recall, thresholds = metrics.precision_recall_curve(y_test, preds)\n",
        "\n",
        "pr_auc = metrics.auc(recall, precision)\n",
        "\n",
        "plt.title('Precision-Recall Curve')\n",
        "plt.plot(recall, precision, 'b', label = 'PR AUC = %0.2f' % pr_auc)\n",
        "plt.legend(loc = 'lower right')\n",
        "plt.plot([0, 1], [0.155, 0.155],'r--')\n",
        "plt.xlim([0, 1])\n",
        "plt.ylim([0, 1])\n",
        "plt.ylabel('Precision')\n",
        "plt.xlabel('Recall')\n",
        "plt.show()"
      ],
      "execution_count": 61,
      "outputs": [
        {
          "output_type": "display_data",
          "data": {
            "image/png": "[encoded data removed]",
            "text/plain": [
              "<Figure size 432x288 with 1 Axes>"
            ]
          },
          "metadata": {
            "tags": []
          }
        }
      ]
    }
  ]
}