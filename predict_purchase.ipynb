{
  "nbformat": 4,
  "nbformat_minor": 0,
  "metadata": {
    "colab": {
      "name": "predict_purchase.ipynb",
      "provenance": [],
      "collapsed_sections": [
        "2A02VUnD78j3",
        "uENwBHUg8DO2",
        "BNBSDiyxVALn"
      ],
      "mount_file_id": "https://github.com/pati-dev/predict-shopping-intention/blob/master/predict_purchase.ipynb",
      "authorship_tag": "ABX9TyMfZil7s2QeusmVa/ZiC9kG",
      "include_colab_link": true
    },
    "kernelspec": {
      "name": "python3",
      "display_name": "Python 3"
    }
  },
  "cells": [
    {
      "cell_type": "markdown",
      "metadata": {
        "id": "view-in-github",
        "colab_type": "text"
      },
      "source": [
        "<a href=\"https://colab.research.google.com/github/pati-dev/predict-shopping-intention/blob/master/predict_purchase.ipynb\" target=\"_parent\"><img src=\"https://colab.research.google.com/assets/colab-badge.svg\" alt=\"Open In Colab\"/></a>"
      ]
    },
    {
      "cell_type": "markdown",
      "metadata": {
        "id": "7JJq-qRHfxXN",
        "colab_type": "text"
      },
      "source": [
        "# Boot"
      ]
    },
    {
      "cell_type": "code",
      "metadata": {
        "id": "sw6CbwHtcAmo",
        "colab_type": "code",
        "colab": {}
      },
      "source": [
        "import numpy as np\n",
        "import pandas as pd\n",
        "import matplotlib.pyplot as plt\n",
        "import itertools\n",
        "import csv\n",
        "\n",
        "from sklearn.decomposition import PCA\n",
        "from sklearn.preprocessing import QuantileTransformer\n",
        "from sklearn.model_selection import train_test_split\n",
        "from sklearn.linear_model import LogisticRegression\n",
        "from sklearn.svm import SVC\n",
        "from sklearn.model_selection import GridSearchCV\n",
        "from sklearn import metrics"
      ],
      "execution_count": 0,
      "outputs": []
    },
    {
      "cell_type": "code",
      "metadata": {
        "id": "wyvPdLX4EcQM",
        "colab_type": "code",
        "colab": {}
      },
      "source": [
        "path = \"/content/drive/My Drive/Personal/IUB/Job apps/Anthem/\""
      ],
      "execution_count": 0,
      "outputs": []
    },
    {
      "cell_type": "markdown",
      "metadata": {
        "id": "nGXJ7vGHf1TT",
        "colab_type": "text"
      },
      "source": [
        "# Load Data"
      ]
    },
    {
      "cell_type": "code",
      "metadata": {
        "id": "XnQ9O2g4bVrm",
        "colab_type": "code",
        "colab": {}
      },
      "source": [
        "shop = pd.read_csv(path + \"online_shoppers_intention.csv\")"
      ],
      "execution_count": 0,
      "outputs": []
    },
    {
      "cell_type": "code",
      "metadata": {
        "id": "cKdYfiZ0cPmc",
        "colab_type": "code",
        "outputId": "72f87a76-1afd-431e-85b1-e597fbf102cb",
        "colab": {
          "base_uri": "https://localhost:8080/",
          "height": 689
        }
      },
      "source": [
        "shop.tail(20)"
      ],
      "execution_count": 0,
      "outputs": [
        {
          "output_type": "execute_result",
          "data": {
            "text/html": [
              "<div>\n",
              "<style scoped>\n",
              "    .dataframe tbody tr th:only-of-type {\n",
              "        vertical-align: middle;\n",
              "    }\n",
              "\n",
              "    .dataframe tbody tr th {\n",
              "        vertical-align: top;\n",
              "    }\n",
              "\n",
              "    .dataframe thead th {\n",
              "        text-align: right;\n",
              "    }\n",
              "</style>\n",
              "<table border=\"1\" class=\"dataframe\">\n",
              "  <thead>\n",
              "    <tr style=\"text-align: right;\">\n",
              "      <th></th>\n",
              "      <th>Administrative</th>\n",
              "      <th>Administrative_Duration</th>\n",
              "      <th>Informational</th>\n",
              "      <th>Informational_Duration</th>\n",
              "      <th>ProductRelated</th>\n",
              "      <th>ProductRelated_Duration</th>\n",
              "      <th>BounceRates</th>\n",
              "      <th>ExitRates</th>\n",
              "      <th>PageValues</th>\n",
              "      <th>SpecialDay</th>\n",
              "      <th>Month</th>\n",
              "      <th>OperatingSystems</th>\n",
              "      <th>Browser</th>\n",
              "      <th>Region</th>\n",
              "      <th>TrafficType</th>\n",
              "      <th>VisitorType</th>\n",
              "      <th>Weekend</th>\n",
              "      <th>Revenue</th>\n",
              "    </tr>\n",
              "  </thead>\n",
              "  <tbody>\n",
              "    <tr>\n",
              "      <th>12310</th>\n",
              "      <td>1</td>\n",
              "      <td>5.000000</td>\n",
              "      <td>0</td>\n",
              "      <td>0.00</td>\n",
              "      <td>21</td>\n",
              "      <td>411.083333</td>\n",
              "      <td>0.015789</td>\n",
              "      <td>0.016140</td>\n",
              "      <td>0.000000</td>\n",
              "      <td>0.0</td>\n",
              "      <td>Nov</td>\n",
              "      <td>3</td>\n",
              "      <td>2</td>\n",
              "      <td>7</td>\n",
              "      <td>3</td>\n",
              "      <td>Returning_Visitor</td>\n",
              "      <td>False</td>\n",
              "      <td>False</td>\n",
              "    </tr>\n",
              "    <tr>\n",
              "      <th>12311</th>\n",
              "      <td>1</td>\n",
              "      <td>0.000000</td>\n",
              "      <td>2</td>\n",
              "      <td>211.25</td>\n",
              "      <td>144</td>\n",
              "      <td>4627.489571</td>\n",
              "      <td>0.001361</td>\n",
              "      <td>0.020664</td>\n",
              "      <td>0.000000</td>\n",
              "      <td>0.0</td>\n",
              "      <td>Nov</td>\n",
              "      <td>2</td>\n",
              "      <td>2</td>\n",
              "      <td>1</td>\n",
              "      <td>2</td>\n",
              "      <td>Returning_Visitor</td>\n",
              "      <td>False</td>\n",
              "      <td>True</td>\n",
              "    </tr>\n",
              "    <tr>\n",
              "      <th>12312</th>\n",
              "      <td>7</td>\n",
              "      <td>150.357143</td>\n",
              "      <td>1</td>\n",
              "      <td>9.00</td>\n",
              "      <td>221</td>\n",
              "      <td>11431.001240</td>\n",
              "      <td>0.011149</td>\n",
              "      <td>0.021904</td>\n",
              "      <td>1.582473</td>\n",
              "      <td>0.0</td>\n",
              "      <td>Nov</td>\n",
              "      <td>2</td>\n",
              "      <td>5</td>\n",
              "      <td>1</td>\n",
              "      <td>2</td>\n",
              "      <td>Returning_Visitor</td>\n",
              "      <td>True</td>\n",
              "      <td>True</td>\n",
              "    </tr>\n",
              "    <tr>\n",
              "      <th>12313</th>\n",
              "      <td>3</td>\n",
              "      <td>16.000000</td>\n",
              "      <td>3</td>\n",
              "      <td>86.00</td>\n",
              "      <td>15</td>\n",
              "      <td>2773.500000</td>\n",
              "      <td>0.000000</td>\n",
              "      <td>0.030000</td>\n",
              "      <td>78.811725</td>\n",
              "      <td>0.0</td>\n",
              "      <td>Dec</td>\n",
              "      <td>2</td>\n",
              "      <td>2</td>\n",
              "      <td>1</td>\n",
              "      <td>2</td>\n",
              "      <td>Returning_Visitor</td>\n",
              "      <td>False</td>\n",
              "      <td>True</td>\n",
              "    </tr>\n",
              "    <tr>\n",
              "      <th>12314</th>\n",
              "      <td>0</td>\n",
              "      <td>0.000000</td>\n",
              "      <td>0</td>\n",
              "      <td>0.00</td>\n",
              "      <td>7</td>\n",
              "      <td>705.833333</td>\n",
              "      <td>0.028571</td>\n",
              "      <td>0.085714</td>\n",
              "      <td>0.000000</td>\n",
              "      <td>0.0</td>\n",
              "      <td>Dec</td>\n",
              "      <td>5</td>\n",
              "      <td>11</td>\n",
              "      <td>4</td>\n",
              "      <td>1</td>\n",
              "      <td>Returning_Visitor</td>\n",
              "      <td>True</td>\n",
              "      <td>False</td>\n",
              "    </tr>\n",
              "    <tr>\n",
              "      <th>12315</th>\n",
              "      <td>0</td>\n",
              "      <td>0.000000</td>\n",
              "      <td>0</td>\n",
              "      <td>0.00</td>\n",
              "      <td>7</td>\n",
              "      <td>212.500000</td>\n",
              "      <td>0.000000</td>\n",
              "      <td>0.033333</td>\n",
              "      <td>0.000000</td>\n",
              "      <td>0.0</td>\n",
              "      <td>Nov</td>\n",
              "      <td>3</td>\n",
              "      <td>2</td>\n",
              "      <td>1</td>\n",
              "      <td>11</td>\n",
              "      <td>Returning_Visitor</td>\n",
              "      <td>True</td>\n",
              "      <td>False</td>\n",
              "    </tr>\n",
              "    <tr>\n",
              "      <th>12316</th>\n",
              "      <td>0</td>\n",
              "      <td>0.000000</td>\n",
              "      <td>0</td>\n",
              "      <td>0.00</td>\n",
              "      <td>44</td>\n",
              "      <td>615.000000</td>\n",
              "      <td>0.013636</td>\n",
              "      <td>0.036364</td>\n",
              "      <td>0.000000</td>\n",
              "      <td>0.0</td>\n",
              "      <td>Dec</td>\n",
              "      <td>4</td>\n",
              "      <td>1</td>\n",
              "      <td>3</td>\n",
              "      <td>1</td>\n",
              "      <td>Returning_Visitor</td>\n",
              "      <td>False</td>\n",
              "      <td>False</td>\n",
              "    </tr>\n",
              "    <tr>\n",
              "      <th>12317</th>\n",
              "      <td>3</td>\n",
              "      <td>100.500000</td>\n",
              "      <td>0</td>\n",
              "      <td>0.00</td>\n",
              "      <td>95</td>\n",
              "      <td>1453.640882</td>\n",
              "      <td>0.002105</td>\n",
              "      <td>0.012761</td>\n",
              "      <td>0.000000</td>\n",
              "      <td>0.0</td>\n",
              "      <td>Dec</td>\n",
              "      <td>2</td>\n",
              "      <td>2</td>\n",
              "      <td>3</td>\n",
              "      <td>2</td>\n",
              "      <td>New_Visitor</td>\n",
              "      <td>False</td>\n",
              "      <td>False</td>\n",
              "    </tr>\n",
              "    <tr>\n",
              "      <th>12318</th>\n",
              "      <td>0</td>\n",
              "      <td>0.000000</td>\n",
              "      <td>0</td>\n",
              "      <td>0.00</td>\n",
              "      <td>6</td>\n",
              "      <td>279.000000</td>\n",
              "      <td>0.000000</td>\n",
              "      <td>0.033333</td>\n",
              "      <td>0.000000</td>\n",
              "      <td>0.0</td>\n",
              "      <td>Dec</td>\n",
              "      <td>1</td>\n",
              "      <td>2</td>\n",
              "      <td>3</td>\n",
              "      <td>10</td>\n",
              "      <td>Returning_Visitor</td>\n",
              "      <td>True</td>\n",
              "      <td>False</td>\n",
              "    </tr>\n",
              "    <tr>\n",
              "      <th>12319</th>\n",
              "      <td>0</td>\n",
              "      <td>0.000000</td>\n",
              "      <td>0</td>\n",
              "      <td>0.00</td>\n",
              "      <td>21</td>\n",
              "      <td>1128.583333</td>\n",
              "      <td>0.000000</td>\n",
              "      <td>0.013043</td>\n",
              "      <td>3.685401</td>\n",
              "      <td>0.0</td>\n",
              "      <td>Dec</td>\n",
              "      <td>2</td>\n",
              "      <td>2</td>\n",
              "      <td>1</td>\n",
              "      <td>2</td>\n",
              "      <td>Returning_Visitor</td>\n",
              "      <td>False</td>\n",
              "      <td>False</td>\n",
              "    </tr>\n",
              "    <tr>\n",
              "      <th>12320</th>\n",
              "      <td>0</td>\n",
              "      <td>0.000000</td>\n",
              "      <td>0</td>\n",
              "      <td>0.00</td>\n",
              "      <td>8</td>\n",
              "      <td>143.583333</td>\n",
              "      <td>0.014286</td>\n",
              "      <td>0.050000</td>\n",
              "      <td>0.000000</td>\n",
              "      <td>0.0</td>\n",
              "      <td>Nov</td>\n",
              "      <td>2</td>\n",
              "      <td>2</td>\n",
              "      <td>3</td>\n",
              "      <td>1</td>\n",
              "      <td>Returning_Visitor</td>\n",
              "      <td>False</td>\n",
              "      <td>False</td>\n",
              "    </tr>\n",
              "    <tr>\n",
              "      <th>12321</th>\n",
              "      <td>0</td>\n",
              "      <td>0.000000</td>\n",
              "      <td>0</td>\n",
              "      <td>0.00</td>\n",
              "      <td>6</td>\n",
              "      <td>0.000000</td>\n",
              "      <td>0.200000</td>\n",
              "      <td>0.200000</td>\n",
              "      <td>0.000000</td>\n",
              "      <td>0.0</td>\n",
              "      <td>Nov</td>\n",
              "      <td>1</td>\n",
              "      <td>8</td>\n",
              "      <td>4</td>\n",
              "      <td>1</td>\n",
              "      <td>Returning_Visitor</td>\n",
              "      <td>False</td>\n",
              "      <td>False</td>\n",
              "    </tr>\n",
              "    <tr>\n",
              "      <th>12322</th>\n",
              "      <td>6</td>\n",
              "      <td>76.250000</td>\n",
              "      <td>0</td>\n",
              "      <td>0.00</td>\n",
              "      <td>22</td>\n",
              "      <td>1075.250000</td>\n",
              "      <td>0.000000</td>\n",
              "      <td>0.004167</td>\n",
              "      <td>0.000000</td>\n",
              "      <td>0.0</td>\n",
              "      <td>Dec</td>\n",
              "      <td>2</td>\n",
              "      <td>2</td>\n",
              "      <td>4</td>\n",
              "      <td>2</td>\n",
              "      <td>Returning_Visitor</td>\n",
              "      <td>False</td>\n",
              "      <td>False</td>\n",
              "    </tr>\n",
              "    <tr>\n",
              "      <th>12323</th>\n",
              "      <td>2</td>\n",
              "      <td>64.750000</td>\n",
              "      <td>0</td>\n",
              "      <td>0.00</td>\n",
              "      <td>44</td>\n",
              "      <td>1157.976190</td>\n",
              "      <td>0.000000</td>\n",
              "      <td>0.013953</td>\n",
              "      <td>0.000000</td>\n",
              "      <td>0.0</td>\n",
              "      <td>Nov</td>\n",
              "      <td>2</td>\n",
              "      <td>2</td>\n",
              "      <td>1</td>\n",
              "      <td>10</td>\n",
              "      <td>Returning_Visitor</td>\n",
              "      <td>False</td>\n",
              "      <td>False</td>\n",
              "    </tr>\n",
              "    <tr>\n",
              "      <th>12324</th>\n",
              "      <td>0</td>\n",
              "      <td>0.000000</td>\n",
              "      <td>1</td>\n",
              "      <td>0.00</td>\n",
              "      <td>16</td>\n",
              "      <td>503.000000</td>\n",
              "      <td>0.000000</td>\n",
              "      <td>0.037647</td>\n",
              "      <td>0.000000</td>\n",
              "      <td>0.0</td>\n",
              "      <td>Nov</td>\n",
              "      <td>2</td>\n",
              "      <td>2</td>\n",
              "      <td>1</td>\n",
              "      <td>1</td>\n",
              "      <td>Returning_Visitor</td>\n",
              "      <td>False</td>\n",
              "      <td>False</td>\n",
              "    </tr>\n",
              "    <tr>\n",
              "      <th>12325</th>\n",
              "      <td>3</td>\n",
              "      <td>145.000000</td>\n",
              "      <td>0</td>\n",
              "      <td>0.00</td>\n",
              "      <td>53</td>\n",
              "      <td>1783.791667</td>\n",
              "      <td>0.007143</td>\n",
              "      <td>0.029031</td>\n",
              "      <td>12.241717</td>\n",
              "      <td>0.0</td>\n",
              "      <td>Dec</td>\n",
              "      <td>4</td>\n",
              "      <td>6</td>\n",
              "      <td>1</td>\n",
              "      <td>1</td>\n",
              "      <td>Returning_Visitor</td>\n",
              "      <td>True</td>\n",
              "      <td>False</td>\n",
              "    </tr>\n",
              "    <tr>\n",
              "      <th>12326</th>\n",
              "      <td>0</td>\n",
              "      <td>0.000000</td>\n",
              "      <td>0</td>\n",
              "      <td>0.00</td>\n",
              "      <td>5</td>\n",
              "      <td>465.750000</td>\n",
              "      <td>0.000000</td>\n",
              "      <td>0.021333</td>\n",
              "      <td>0.000000</td>\n",
              "      <td>0.0</td>\n",
              "      <td>Nov</td>\n",
              "      <td>3</td>\n",
              "      <td>2</td>\n",
              "      <td>1</td>\n",
              "      <td>8</td>\n",
              "      <td>Returning_Visitor</td>\n",
              "      <td>True</td>\n",
              "      <td>False</td>\n",
              "    </tr>\n",
              "    <tr>\n",
              "      <th>12327</th>\n",
              "      <td>0</td>\n",
              "      <td>0.000000</td>\n",
              "      <td>0</td>\n",
              "      <td>0.00</td>\n",
              "      <td>6</td>\n",
              "      <td>184.250000</td>\n",
              "      <td>0.083333</td>\n",
              "      <td>0.086667</td>\n",
              "      <td>0.000000</td>\n",
              "      <td>0.0</td>\n",
              "      <td>Nov</td>\n",
              "      <td>3</td>\n",
              "      <td>2</td>\n",
              "      <td>1</td>\n",
              "      <td>13</td>\n",
              "      <td>Returning_Visitor</td>\n",
              "      <td>True</td>\n",
              "      <td>False</td>\n",
              "    </tr>\n",
              "    <tr>\n",
              "      <th>12328</th>\n",
              "      <td>4</td>\n",
              "      <td>75.000000</td>\n",
              "      <td>0</td>\n",
              "      <td>0.00</td>\n",
              "      <td>15</td>\n",
              "      <td>346.000000</td>\n",
              "      <td>0.000000</td>\n",
              "      <td>0.021053</td>\n",
              "      <td>0.000000</td>\n",
              "      <td>0.0</td>\n",
              "      <td>Nov</td>\n",
              "      <td>2</td>\n",
              "      <td>2</td>\n",
              "      <td>3</td>\n",
              "      <td>11</td>\n",
              "      <td>Returning_Visitor</td>\n",
              "      <td>False</td>\n",
              "      <td>False</td>\n",
              "    </tr>\n",
              "    <tr>\n",
              "      <th>12329</th>\n",
              "      <td>0</td>\n",
              "      <td>0.000000</td>\n",
              "      <td>0</td>\n",
              "      <td>0.00</td>\n",
              "      <td>3</td>\n",
              "      <td>21.250000</td>\n",
              "      <td>0.000000</td>\n",
              "      <td>0.066667</td>\n",
              "      <td>0.000000</td>\n",
              "      <td>0.0</td>\n",
              "      <td>Nov</td>\n",
              "      <td>3</td>\n",
              "      <td>2</td>\n",
              "      <td>1</td>\n",
              "      <td>2</td>\n",
              "      <td>New_Visitor</td>\n",
              "      <td>True</td>\n",
              "      <td>False</td>\n",
              "    </tr>\n",
              "  </tbody>\n",
              "</table>\n",
              "</div>"
            ],
            "text/plain": [
              "       Administrative  Administrative_Duration  ...  Weekend  Revenue\n",
              "12310               1                 5.000000  ...    False    False\n",
              "12311               1                 0.000000  ...    False     True\n",
              "12312               7               150.357143  ...     True     True\n",
              "12313               3                16.000000  ...    False     True\n",
              "12314               0                 0.000000  ...     True    False\n",
              "12315               0                 0.000000  ...     True    False\n",
              "12316               0                 0.000000  ...    False    False\n",
              "12317               3               100.500000  ...    False    False\n",
              "12318               0                 0.000000  ...     True    False\n",
              "12319               0                 0.000000  ...    False    False\n",
              "12320               0                 0.000000  ...    False    False\n",
              "12321               0                 0.000000  ...    False    False\n",
              "12322               6                76.250000  ...    False    False\n",
              "12323               2                64.750000  ...    False    False\n",
              "12324               0                 0.000000  ...    False    False\n",
              "12325               3               145.000000  ...     True    False\n",
              "12326               0                 0.000000  ...     True    False\n",
              "12327               0                 0.000000  ...     True    False\n",
              "12328               4                75.000000  ...    False    False\n",
              "12329               0                 0.000000  ...     True    False\n",
              "\n",
              "[20 rows x 18 columns]"
            ]
          },
          "metadata": {
            "tags": []
          },
          "execution_count": 6
        }
      ]
    },
    {
      "cell_type": "markdown",
      "metadata": {
        "id": "4gysoS5zfr3t",
        "colab_type": "text"
      },
      "source": [
        "# Data preprocessing"
      ]
    },
    {
      "cell_type": "markdown",
      "metadata": {
        "id": "o6WnHNW3DQpG",
        "colab_type": "text"
      },
      "source": [
        "## Feature scaling"
      ]
    },
    {
      "cell_type": "code",
      "metadata": {
        "id": "hzfZnfyQfLr0",
        "colab_type": "code",
        "outputId": "9c939d3f-fc44-4ebd-a873-d5af20ee36da",
        "colab": {
          "base_uri": "https://localhost:8080/",
          "height": 442
        }
      },
      "source": [
        "print(shop.columns)\n",
        "print(shop.dtypes)"
      ],
      "execution_count": 0,
      "outputs": [
        {
          "output_type": "stream",
          "text": [
            "Index(['Administrative', 'Administrative_Duration', 'Informational',\n",
            "       'Informational_Duration', 'ProductRelated', 'ProductRelated_Duration',\n",
            "       'BounceRates', 'ExitRates', 'PageValues', 'SpecialDay', 'Month',\n",
            "       'OperatingSystems', 'Browser', 'Region', 'TrafficType', 'VisitorType',\n",
            "       'Weekend', 'Revenue'],\n",
            "      dtype='object')\n",
            "Administrative               int64\n",
            "Administrative_Duration    float64\n",
            "Informational                int64\n",
            "Informational_Duration     float64\n",
            "ProductRelated               int64\n",
            "ProductRelated_Duration    float64\n",
            "BounceRates                float64\n",
            "ExitRates                  float64\n",
            "PageValues                 float64\n",
            "SpecialDay                 float64\n",
            "Month                       object\n",
            "OperatingSystems             int64\n",
            "Browser                      int64\n",
            "Region                       int64\n",
            "TrafficType                  int64\n",
            "VisitorType                 object\n",
            "Weekend                       bool\n",
            "Revenue                       bool\n",
            "dtype: object\n"
          ],
          "name": "stdout"
        }
      ]
    },
    {
      "cell_type": "code",
      "metadata": {
        "id": "LjJXeLIaFjN-",
        "colab_type": "code",
        "outputId": "834517ca-6404-46c6-d0da-310b1af793bc",
        "colab": {
          "base_uri": "https://localhost:8080/",
          "height": 265
        }
      },
      "source": [
        "pages = ['Administrative',\n",
        "         'Informational',\n",
        "         'ProductRelated',\n",
        "         'Administrative_Duration',\n",
        "         'Informational_Duration',\n",
        "         'ProductRelated_Duration',\n",
        "         'BounceRates',\n",
        "         'ExitRates',\n",
        "         'PageValues']\n",
        "\n",
        "x_pages = shop.loc[:, pages].values\n",
        "\n",
        "plt.hist(x_pages, label=pages)\n",
        "plt.legend()\n",
        "plt.show()"
      ],
      "execution_count": 3,
      "outputs": [
        {
          "output_type": "display_data",
          "data": {
            "image/png": "[encoded data removed]",
            "text/plain": [
              "<Figure size 432x288 with 1 Axes>"
            ]
          },
          "metadata": {
            "tags": [],
            "needs_background": "light"
          }
        }
      ]
    },
    {
      "cell_type": "code",
      "metadata": {
        "id": "2HHnLtp6kJBE",
        "colab_type": "code",
        "outputId": "0dd65b9c-1410-4d44-d656-603e8ec05b53",
        "colab": {
          "base_uri": "https://localhost:8080/",
          "height": 265
        }
      },
      "source": [
        "x_pages = QuantileTransformer(output_distribution='uniform').fit_transform(x_pages)\n",
        "plt.hist(x_pages, label=pages)\n",
        "plt.legend()\n",
        "plt.show()"
      ],
      "execution_count": 4,
      "outputs": [
        {
          "output_type": "display_data",
          "data": {
            "image/png": "[encoded data removed]",
            "text/plain": [
              "<Figure size 432x288 with 1 Axes>"
            ]
          },
          "metadata": {
            "tags": [],
            "needs_background": "light"
          }
        }
      ]
    },
    {
      "cell_type": "markdown",
      "metadata": {
        "id": "LaSBI9xXJftF",
        "colab_type": "text"
      },
      "source": [
        "## Dimension reduction"
      ]
    },
    {
      "cell_type": "code",
      "metadata": {
        "id": "OqSNmZImsCcF",
        "colab_type": "code",
        "outputId": "02fd40db-2419-4a5e-9675-5c7bee986487",
        "colab": {
          "base_uri": "https://localhost:8080/",
          "height": 283
        }
      },
      "source": [
        "pca = PCA(n_components=6)\n",
        "\n",
        "pca.fit(x_pages)\n",
        "\n",
        "print(\"% variance explained:\", sum(pca.explained_variance_ratio_)*100)\n",
        "variance = np.cumsum(np.round(pca.explained_variance_ratio_, decimals=4)*100)\n",
        "plt.plot(variance, marker='*')\n",
        "plt.show()"
      ],
      "execution_count": 5,
      "outputs": [
        {
          "output_type": "stream",
          "text": [
            "% variance explained: 98.07948987307483\n"
          ],
          "name": "stdout"
        },
        {
          "output_type": "display_data",
          "data": {
            "image/png": "[encoded data removed]",
            "text/plain": [
              "<Figure size 432x288 with 1 Axes>"
            ]
          },
          "metadata": {
            "tags": [],
            "needs_background": "light"
          }
        }
      ]
    },
    {
      "cell_type": "code",
      "metadata": {
        "id": "A8pI3uuGIl3S",
        "colab_type": "code",
        "outputId": "43c46845-5557-4505-f8b1-1a464f96ba68",
        "colab": {
          "base_uri": "https://localhost:8080/",
          "height": 413
        }
      },
      "source": [
        "plt.matshow(pca.components_,cmap='viridis')\n",
        "plt.yticks([0, 1, 2, 3, 4, 5],['PC1', 'PC2', 'PC3', 'PC4', 'PC5', 'PC6'], fontsize=10)\n",
        "plt.colorbar()\n",
        "plt.xticks(range(len(pages)),pages,rotation=65,ha='left')\n",
        "plt.tight_layout()\n",
        "plt.show()"
      ],
      "execution_count": 6,
      "outputs": [
        {
          "output_type": "stream",
          "text": [
            "/usr/local/lib/python3.6/dist-packages/ipykernel_launcher.py:5: UserWarning: This figure includes Axes that are not compatible with tight_layout, so results might be incorrect.\n",
            "  \"\"\"\n"
          ],
          "name": "stderr"
        },
        {
          "output_type": "display_data",
          "data": {
            "image/png": "[encoded data removed]",
            "text/plain": [
              "<Figure size 432x288 with 2 Axes>"
            ]
          },
          "metadata": {
            "tags": [],
            "needs_background": "light"
          }
        }
      ]
    },
    {
      "cell_type": "markdown",
      "metadata": {
        "id": "YR-c4x5lSC0G",
        "colab_type": "text"
      },
      "source": [
        "## Feature manipulation"
      ]
    },
    {
      "cell_type": "code",
      "metadata": {
        "id": "RcqHWU_TGXXo",
        "colab_type": "code",
        "colab": {}
      },
      "source": [
        "pages_pca = pca.fit_transform(x_pages)\n",
        "\n",
        "df_pages_pca = pd.DataFrame(data = pages_pca,\n",
        "                            columns = ['pages_pc1',\n",
        "                                       'pages_pc2',\n",
        "                                       'pages_pc3',\n",
        "                                       'pages_pc4',\n",
        "                                       'pages_pc5',\n",
        "                                       'pages_pc6'])\n",
        "\n",
        "shop['is_weekend'] = np.where(shop['Weekend']==True, 1, 0)\n",
        "shop['returning_visitor'] = np.where(shop['VisitorType']==\"Returning_Visitor\", 1, 0)\n",
        "\n",
        "# 0 1 labels for Logistic Regression\n",
        "shop['purchase'] = np.where(shop['Revenue']==True, 1, 0)\n",
        "\n",
        "# -1 1 labels for SVM\n",
        "# shop['purchase'] = np.where(shop['Revenue']==True, 1, -1)\n",
        "\n",
        "cols = ['is_weekend',\n",
        "        'returning_visitor',\n",
        "        'SpecialDay',\n",
        "        'purchase']\n",
        "df_shop = shop.loc[:, cols]"
      ],
      "execution_count": 0,
      "outputs": []
    },
    {
      "cell_type": "markdown",
      "metadata": {
        "id": "L2FiLcciFb09",
        "colab_type": "text"
      },
      "source": [
        "# Modeling and Evaluation"
      ]
    },
    {
      "cell_type": "markdown",
      "metadata": {
        "id": "Wyzgq4XBUxBi",
        "colab_type": "text"
      },
      "source": [
        "## Dataset generator"
      ]
    },
    {
      "cell_type": "code",
      "metadata": {
        "id": "6b2RCMiJmdZN",
        "colab_type": "code",
        "colab": {}
      },
      "source": [
        "def generate_data(df_pca, df_raw, labels):\n",
        "  pca_cols, raw_cols = df_pca.columns, df_raw.columns\n",
        "  \n",
        "  # Remove labels from features\n",
        "  raw_cols = raw_cols[ raw_cols != labels ]\n",
        "\n",
        "  # Prepare combinations of raw features\n",
        "  raw_combos = []\n",
        "  for i in range(0, len(raw_cols)+1):\n",
        "    for combo in itertools.combinations(raw_cols, i):\n",
        "      raw_combos += [list(combo)]\n",
        "  \n",
        "  for pca_idx in range( len(pca_cols), 5, -1):\n",
        "    for raw_combo in raw_combos:\n",
        "      pca_combo = pca_cols[:pca_idx]\n",
        "      \n",
        "      x = pd.concat( [df_pca.loc[:, pca_combo], df_raw.loc[:, raw_combo]], axis=1 )\n",
        "      y = df_raw[labels]\n",
        "\n",
        "      x_train, x_test, y_train, y_test = train_test_split(x, y, test_size=0.3, random_state=0)\n",
        "\n",
        "      yield x_train, x_test, y_train, y_test"
      ],
      "execution_count": 0,
      "outputs": []
    },
    {
      "cell_type": "markdown",
      "metadata": {
        "id": "5FC-lCjfFB6t",
        "colab_type": "text"
      },
      "source": [
        "## Model fitting with 5-fold cross validation"
      ]
    },
    {
      "cell_type": "code",
      "metadata": {
        "id": "SS7f0IfES7Re",
        "colab_type": "code",
        "colab": {}
      },
      "source": [
        "def fit_log_reg(x_train, y_train):\n",
        "  lr_model = LogisticRegression()\n",
        "\n",
        "  # solver = ['lbfgs', 'newton-cg']\n",
        "  # C = np.logspace(0, 4, 10)\n",
        "  solver = ['lbfgs']\n",
        "  C = [1]\n",
        "\n",
        "  hyperparams = dict(solver=solver, C=C)\n",
        "\n",
        "  # 5-fold cross-validation\n",
        "  clf = GridSearchCV(lr_model, hyperparams, cv=5, n_jobs=-1)\n",
        "  model = clf.fit(x_train, y_train)\n",
        "\n",
        "  coeff = [ (f, c) for f, c in zip(list(x_train.columns.values), clf.best_estimator_.coef_.tolist()[0]) ]\n",
        "\n",
        "  return model, clf.best_params_, coeff\n",
        "\n",
        "def fit_svm(x_train, y_train):\n",
        "  svm_model = SVC()\n",
        "\n",
        "  # C = [0.1, 1, 10, 100, 1000]\n",
        "  C = [1, 10]\n",
        "  # gamma = [1, 0.1, 0.01, 0.001, 0.0001]\n",
        "  gamma = ['scale', 'auto']\n",
        "  # kernel = ['rbf', 'linear', 'poly']\n",
        "  kernel = ['rbf', 'poly']\n",
        "\n",
        "  hyperparams = dict(kernel=kernel, C=C, gamma=gamma)\n",
        "\n",
        "  # 5-fold cross-validation\n",
        "  clf = GridSearchCV(svm_model, hyperparams, cv=5, verbose=2, n_jobs=-1)\n",
        "  model = clf.fit(x_train, y_train)\n",
        "\n",
        "  print(model.best_params_)\n",
        "\n",
        "  return model"
      ],
      "execution_count": 0,
      "outputs": []
    },
    {
      "cell_type": "markdown",
      "metadata": {
        "id": "qUpOBWJiFMzE",
        "colab_type": "text"
      },
      "source": [
        "## Model evaluation"
      ]
    },
    {
      "cell_type": "code",
      "metadata": {
        "id": "L0G4ffIycpgy",
        "colab_type": "code",
        "colab": {}
      },
      "source": [
        "def evaluate(label, params, coeffs, model, x_test, y_test, results):\n",
        "  predictions = model.predict(x_test)\n",
        "  # mythreshold = 0.242098\n",
        "  # predictions = (model.predict_proba(x_test) >= mythreshold).astype(int)[:,1]\n",
        "\n",
        "  C = metrics.confusion_matrix(y_test, predictions)\n",
        "  fpr, tpr, _ = metrics.roc_curve(y_test, predictions)\n",
        "  p, r, _ = metrics.precision_recall_curve(y_test, predictions)\n",
        "\n",
        "  n_samples = len(y_test)\n",
        "  tn, fp, fn, tp = C[0][0], C[0][1], C[1][0], C[1][1]\n",
        "  \n",
        "  precision = tp / (tp + fp) * 100\n",
        "  recall = tp / (tp + fn) * 100\n",
        "  # accuracy = (tp + tn) / (tp + fp + tn + fn) * 100\n",
        "  f0_25 = (1.0625 * precision * recall) / (0.0625 * precision + recall)\n",
        "  f0_5 = (1.25 * precision * recall) / (0.25 * precision + recall)\n",
        "  f1 = (precision * recall) / (precision + recall)\n",
        "  f1_5 = (3.25 * precision * recall) / (2.25 * precision + recall)\n",
        "  f2 = (5 * precision * recall) / (4 * precision + recall)\n",
        "  f3 = (10 * precision * recall) / (9 * precision + recall)\n",
        "  roc_auc = metrics.auc(fpr, tpr)\n",
        "  pr_auc = metrics.auc(r, p)\n",
        "\n",
        "  print(\"\\nEvaluating model with features:\\n\", x_test.columns.values)\n",
        "\n",
        "  # Populate results\n",
        "  results += [[label,\n",
        "               tuple(x_test.columns.values),\n",
        "               params,\n",
        "               coeffs,\n",
        "               precision,\n",
        "               recall,\n",
        "               f0_25,\n",
        "               f0_5,\n",
        "               f1,\n",
        "               f1_5,\n",
        "               f2,\n",
        "               f3,\n",
        "               roc_auc,\n",
        "               pr_auc]]\n",
        "  \n",
        "  return None"
      ],
      "execution_count": 0,
      "outputs": []
    },
    {
      "cell_type": "markdown",
      "metadata": {
        "id": "2A02VUnD78j3",
        "colab_type": "text"
      },
      "source": [
        "## Logistic Regression"
      ]
    },
    {
      "cell_type": "code",
      "metadata": {
        "id": "KySM93LIhuU0",
        "colab_type": "code",
        "outputId": "30dc4698-b958-4afb-f7d7-e06617ec65e9",
        "colab": {
          "base_uri": "https://localhost:8080/",
          "height": 544
        }
      },
      "source": [
        "train_results = [['Model',\n",
        "                  'Features',\n",
        "                  'Hyper-parameters',\n",
        "                  'Coefficients',\n",
        "                  'Precision',\n",
        "                  'Recall',\n",
        "                  'F-0.25 score',\n",
        "                  'F-0.5 score',\n",
        "                  'F-1 score',\n",
        "                  'F-1.5 score',\n",
        "                  'F-2 score',\n",
        "                  'F-3 score',\n",
        "                  'AUROC',\n",
        "                  'AUPRC']]\n",
        "test_results = {}\n",
        "\n",
        "for x_train, x_test, y_train, y_test in generate_data(df_pca=df_pages_pca, df_raw=df_shop, labels='purchase'):\n",
        "  model, params, coeffs = fit_log_reg(x_train=x_train, y_train=y_train)\n",
        "  evaluate(label='Log reg', params=params, coeffs=coeffs, model=model, x_test=x_train, y_test=y_train, results=train_results)\n",
        "\n",
        "  # evaluate(model=model, x_test=x_test, y_test=y_test, results=test_results)"
      ],
      "execution_count": 131,
      "outputs": [
        {
          "output_type": "stream",
          "text": [
            "\n",
            "Evaluating model with features:\n",
            " ['pages_pc1' 'pages_pc2' 'pages_pc3' 'pages_pc4' 'pages_pc5' 'pages_pc6']\n",
            "\n",
            "Evaluating model with features:\n",
            " ['pages_pc1' 'pages_pc2' 'pages_pc3' 'pages_pc4' 'pages_pc5' 'pages_pc6'\n",
            " 'is_weekend']\n",
            "\n",
            "Evaluating model with features:\n",
            " ['pages_pc1' 'pages_pc2' 'pages_pc3' 'pages_pc4' 'pages_pc5' 'pages_pc6'\n",
            " 'returning_visitor']\n",
            "\n",
            "Evaluating model with features:\n",
            " ['pages_pc1' 'pages_pc2' 'pages_pc3' 'pages_pc4' 'pages_pc5' 'pages_pc6'\n",
            " 'SpecialDay']\n",
            "\n",
            "Evaluating model with features:\n",
            " ['pages_pc1' 'pages_pc2' 'pages_pc3' 'pages_pc4' 'pages_pc5' 'pages_pc6'\n",
            " 'is_weekend' 'returning_visitor']\n",
            "\n",
            "Evaluating model with features:\n",
            " ['pages_pc1' 'pages_pc2' 'pages_pc3' 'pages_pc4' 'pages_pc5' 'pages_pc6'\n",
            " 'is_weekend' 'SpecialDay']\n",
            "\n",
            "Evaluating model with features:\n",
            " ['pages_pc1' 'pages_pc2' 'pages_pc3' 'pages_pc4' 'pages_pc5' 'pages_pc6'\n",
            " 'returning_visitor' 'SpecialDay']\n",
            "\n",
            "Evaluating model with features:\n",
            " ['pages_pc1' 'pages_pc2' 'pages_pc3' 'pages_pc4' 'pages_pc5' 'pages_pc6'\n",
            " 'is_weekend' 'returning_visitor' 'SpecialDay']\n"
          ],
          "name": "stdout"
        }
      ]
    },
    {
      "cell_type": "code",
      "metadata": {
        "id": "P523M2BiIbm3",
        "colab_type": "code",
        "colab": {}
      },
      "source": [
        "with open(path + 'results.csv', 'w+', newline='') as file:\n",
        "  writer = csv.writer(file)\n",
        "  writer.writerows(train_results)"
      ],
      "execution_count": 0,
      "outputs": []
    },
    {
      "cell_type": "markdown",
      "metadata": {
        "id": "uENwBHUg8DO2",
        "colab_type": "text"
      },
      "source": [
        "## Support Vector Machines"
      ]
    },
    {
      "cell_type": "code",
      "metadata": {
        "id": "huQQre0y7zWe",
        "colab_type": "code",
        "colab": {}
      },
      "source": [
        "# Modify label into +1 -1 instead of 1 0 for SVM\n",
        "df_shop['purchase'] = np.where(df_shop['purchase']==1, 1, -1)\n",
        "\n",
        "train_results = {}\n",
        "test_results = {}\n",
        "\n",
        "for x_train, x_test, y_train, y_test in generate_data(df_pca=df_pages_pca, df_raw=df_shop, labels='purchase'):\n",
        "  model = fit_svm(x_train=x_train, y_train=y_train)\n",
        "  evaluate(model=model, x_test=x_train, y_test=y_train, results=train_results)\n",
        "  evaluate(model=model, x_test=x_test, y_test=y_test, results=test_results)"
      ],
      "execution_count": 0,
      "outputs": []
    },
    {
      "cell_type": "markdown",
      "metadata": {
        "id": "BNBSDiyxVALn",
        "colab_type": "text"
      },
      "source": [
        "# Identify best candidate model"
      ]
    },
    {
      "cell_type": "code",
      "metadata": {
        "id": "Hb8O6KhU2SgG",
        "colab_type": "code",
        "outputId": "28871de6-b09d-4e61-941f-eafa4d1168f0",
        "colab": {
          "base_uri": "https://localhost:8080/",
          "height": 374
        }
      },
      "source": [
        "for features, met in train_results.items():\n",
        "  # print(features)\n",
        "  # print(met['accuracy'])\n",
        "  # print(met['precision'])\n",
        "  print(met['recall'])"
      ],
      "execution_count": 0,
      "outputs": [
        {
          "output_type": "stream",
          "text": [
            "53.810264385692065\n",
            "49.22239502332815\n",
            "50.93312597200622\n",
            "48.21150855365474\n",
            "54.74339035769829\n",
            "52.332814930015545\n",
            "51.86625194401244\n",
            "53.576982892690516\n",
            "50.69984447900466\n",
            "54.19906687402799\n",
            "48.13374805598756\n",
            "54.19906687402799\n",
            "51.632970451010884\n",
            "48.600311041990665\n",
            "46.3452566096423\n",
            "44.556765163297044\n",
            "46.26749611197511\n",
            "44.09020217729393\n",
            "46.734059097978225\n",
            "45.25660964230171\n",
            "44.94556765163297\n"
          ],
          "name": "stdout"
        }
      ]
    },
    {
      "cell_type": "code",
      "metadata": {
        "id": "txd2ZzmU4mZo",
        "colab_type": "code",
        "outputId": "c3afbe3f-66bf-40db-850c-795f67d5ba54",
        "colab": {
          "base_uri": "https://localhost:8080/",
          "height": 374
        }
      },
      "source": [
        "for features, met in test_results.items():\n",
        "  # print(features)\n",
        "  # print(met['accuracy'])\n",
        "  # print(met['precision'])\n",
        "  print(met['recall'])"
      ],
      "execution_count": 0,
      "outputs": [
        {
          "output_type": "stream",
          "text": [
            "48.87459807073955\n",
            "46.30225080385852\n",
            "47.7491961414791\n",
            "46.141479099678456\n",
            "49.839228295819936\n",
            "47.7491961414791\n",
            "48.07073954983923\n",
            "49.356913183279744\n",
            "47.10610932475884\n",
            "49.035369774919616\n",
            "44.69453376205787\n",
            "50.32154340836013\n",
            "47.10610932475884\n",
            "44.855305466237944\n",
            "42.765273311897104\n",
            "41.31832797427653\n",
            "43.729903536977496\n",
            "40.836012861736336\n",
            "43.40836012861736\n",
            "41.47909967845659\n",
            "40.9967845659164\n"
          ],
          "name": "stdout"
        }
      ]
    },
    {
      "cell_type": "markdown",
      "metadata": {
        "id": "fhsqGeOB5gFR",
        "colab_type": "text"
      },
      "source": [
        "# Fit best candidate model"
      ]
    },
    {
      "cell_type": "code",
      "metadata": {
        "id": "gTWoU86v5kO8",
        "colab_type": "code",
        "colab": {}
      },
      "source": [
        "x = pd.concat( [df_pages_pca, df_shop.loc[:, ['is_weekend']]], axis=1 )\n",
        "# x = df_pages_pca.loc[:, df_pages_pca.columns]\n",
        "y = df_shop['purchase']\n",
        "\n",
        "x_train, x_test, y_train, y_test = train_test_split(x, y, test_size=0.3, random_state=0)\n",
        "\n",
        "lr_model = LogisticRegression(C=1, solver='lbfgs')\n",
        "best_model = lr_model.fit(x_train, y_train)\n",
        "\n",
        "# svm_model = SVC(C=10, gamma='scale', kernel='rbf')\n",
        "# best_model = svm_model.fit(x_train, y_train)\n",
        "\n",
        "train_results = {}\n",
        "evaluate(model=best_model, x_test=x_train, y_test=y_train, results=train_results)\n",
        "test_results = {}\n",
        "evaluate(model=best_model, x_test=x_test, y_test=y_test, results=test_results)"
      ],
      "execution_count": 0,
      "outputs": []
    },
    {
      "cell_type": "code",
      "metadata": {
        "id": "pI3a88h0S1XI",
        "colab_type": "code",
        "colab": {}
      },
      "source": [
        "print(best_model.classes_)\n",
        "print(best_model.coef_)"
      ],
      "execution_count": 0,
      "outputs": []
    },
    {
      "cell_type": "code",
      "metadata": {
        "id": "JsFSCfndfKl6",
        "colab_type": "code",
        "colab": {}
      },
      "source": [
        "def odds_and_probs(train, label, binaryVar):\n",
        "  df = train[train[label] == 1].groupby(train[binaryVar]).count()[[label]]\n",
        "  df['Total'] = train[label].groupby(train[binaryVar]).count()\n",
        "  df['not_' + label] = df.Total - df[label]\n",
        "  df['OddsOF' + label] = df[label] / df['not_' + label]\n",
        "  df['ProbOF' + label] = df[label] / df.Total\n",
        "  df['Log(OddsOF' + label + ')'] = np.log(df['OddsOF' + label])\n",
        "\n",
        "  return df"
      ],
      "execution_count": 0,
      "outputs": []
    },
    {
      "cell_type": "code",
      "metadata": {
        "id": "3MnUaRY1krOb",
        "colab_type": "code",
        "outputId": "c9c9e63f-e6f6-466f-d2db-f84f0c4626f0",
        "colab": {
          "base_uri": "https://localhost:8080/",
          "height": 142
        }
      },
      "source": [
        "df_weekend = odds_and_probs(train=df_shop, label='purchase', binaryVar='is_weekend')\n",
        "df_weekend"
      ],
      "execution_count": 0,
      "outputs": [
        {
          "output_type": "execute_result",
          "data": {
            "text/html": [
              "<div>\n",
              "<style scoped>\n",
              "    .dataframe tbody tr th:only-of-type {\n",
              "        vertical-align: middle;\n",
              "    }\n",
              "\n",
              "    .dataframe tbody tr th {\n",
              "        vertical-align: top;\n",
              "    }\n",
              "\n",
              "    .dataframe thead th {\n",
              "        text-align: right;\n",
              "    }\n",
              "</style>\n",
              "<table border=\"1\" class=\"dataframe\">\n",
              "  <thead>\n",
              "    <tr style=\"text-align: right;\">\n",
              "      <th></th>\n",
              "      <th>purchase</th>\n",
              "      <th>Total</th>\n",
              "      <th>not_purchase</th>\n",
              "      <th>OddsOFpurchase</th>\n",
              "      <th>ProbOFpurchase</th>\n",
              "      <th>Log(OddsOFpurchase)</th>\n",
              "    </tr>\n",
              "    <tr>\n",
              "      <th>is_weekend</th>\n",
              "      <th></th>\n",
              "      <th></th>\n",
              "      <th></th>\n",
              "      <th></th>\n",
              "      <th></th>\n",
              "      <th></th>\n",
              "    </tr>\n",
              "  </thead>\n",
              "  <tbody>\n",
              "    <tr>\n",
              "      <th>0</th>\n",
              "      <td>1409</td>\n",
              "      <td>9462</td>\n",
              "      <td>8053</td>\n",
              "      <td>0.174966</td>\n",
              "      <td>0.148911</td>\n",
              "      <td>-1.743164</td>\n",
              "    </tr>\n",
              "    <tr>\n",
              "      <th>1</th>\n",
              "      <td>499</td>\n",
              "      <td>2868</td>\n",
              "      <td>2369</td>\n",
              "      <td>0.210637</td>\n",
              "      <td>0.173989</td>\n",
              "      <td>-1.557617</td>\n",
              "    </tr>\n",
              "  </tbody>\n",
              "</table>\n",
              "</div>"
            ],
            "text/plain": [
              "            purchase  Total  ...  ProbOFpurchase  Log(OddsOFpurchase)\n",
              "is_weekend                   ...                                     \n",
              "0               1409   9462  ...        0.148911            -1.743164\n",
              "1                499   2868  ...        0.173989            -1.557617\n",
              "\n",
              "[2 rows x 6 columns]"
            ]
          },
          "metadata": {
            "tags": []
          },
          "execution_count": 36
        }
      ]
    },
    {
      "cell_type": "code",
      "metadata": {
        "id": "QJCqjUmalikF",
        "colab_type": "code",
        "outputId": "bb0a7d25-ffab-4494-dad3-de95a717e7cc",
        "colab": {
          "base_uri": "https://localhost:8080/",
          "height": 266
        }
      },
      "source": [
        "df_SpecialDay = odds_and_probs(train=df_shop, label='purchase', binaryVar='SpecialDay')\n",
        "df_SpecialDay"
      ],
      "execution_count": 0,
      "outputs": [
        {
          "output_type": "execute_result",
          "data": {
            "text/html": [
              "<div>\n",
              "<style scoped>\n",
              "    .dataframe tbody tr th:only-of-type {\n",
              "        vertical-align: middle;\n",
              "    }\n",
              "\n",
              "    .dataframe tbody tr th {\n",
              "        vertical-align: top;\n",
              "    }\n",
              "\n",
              "    .dataframe thead th {\n",
              "        text-align: right;\n",
              "    }\n",
              "</style>\n",
              "<table border=\"1\" class=\"dataframe\">\n",
              "  <thead>\n",
              "    <tr style=\"text-align: right;\">\n",
              "      <th></th>\n",
              "      <th>purchase</th>\n",
              "      <th>Total</th>\n",
              "      <th>not_purchase</th>\n",
              "      <th>OddsOFpurchase</th>\n",
              "      <th>ProbOFpurchase</th>\n",
              "      <th>Log(OddsOFpurchase)</th>\n",
              "    </tr>\n",
              "    <tr>\n",
              "      <th>SpecialDay</th>\n",
              "      <th></th>\n",
              "      <th></th>\n",
              "      <th></th>\n",
              "      <th></th>\n",
              "      <th></th>\n",
              "      <th></th>\n",
              "    </tr>\n",
              "  </thead>\n",
              "  <tbody>\n",
              "    <tr>\n",
              "      <th>0.0</th>\n",
              "      <td>1831</td>\n",
              "      <td>11079</td>\n",
              "      <td>9248</td>\n",
              "      <td>0.197989</td>\n",
              "      <td>0.165268</td>\n",
              "      <td>-1.619545</td>\n",
              "    </tr>\n",
              "    <tr>\n",
              "      <th>0.2</th>\n",
              "      <td>14</td>\n",
              "      <td>178</td>\n",
              "      <td>164</td>\n",
              "      <td>0.085366</td>\n",
              "      <td>0.078652</td>\n",
              "      <td>-2.460809</td>\n",
              "    </tr>\n",
              "    <tr>\n",
              "      <th>0.4</th>\n",
              "      <td>13</td>\n",
              "      <td>243</td>\n",
              "      <td>230</td>\n",
              "      <td>0.056522</td>\n",
              "      <td>0.053498</td>\n",
              "      <td>-2.873130</td>\n",
              "    </tr>\n",
              "    <tr>\n",
              "      <th>0.6</th>\n",
              "      <td>29</td>\n",
              "      <td>351</td>\n",
              "      <td>322</td>\n",
              "      <td>0.090062</td>\n",
              "      <td>0.082621</td>\n",
              "      <td>-2.407256</td>\n",
              "    </tr>\n",
              "    <tr>\n",
              "      <th>0.8</th>\n",
              "      <td>11</td>\n",
              "      <td>325</td>\n",
              "      <td>314</td>\n",
              "      <td>0.035032</td>\n",
              "      <td>0.033846</td>\n",
              "      <td>-3.351498</td>\n",
              "    </tr>\n",
              "    <tr>\n",
              "      <th>1.0</th>\n",
              "      <td>10</td>\n",
              "      <td>154</td>\n",
              "      <td>144</td>\n",
              "      <td>0.069444</td>\n",
              "      <td>0.064935</td>\n",
              "      <td>-2.667228</td>\n",
              "    </tr>\n",
              "  </tbody>\n",
              "</table>\n",
              "</div>"
            ],
            "text/plain": [
              "            purchase  Total  ...  ProbOFpurchase  Log(OddsOFpurchase)\n",
              "SpecialDay                   ...                                     \n",
              "0.0             1831  11079  ...        0.165268            -1.619545\n",
              "0.2               14    178  ...        0.078652            -2.460809\n",
              "0.4               13    243  ...        0.053498            -2.873130\n",
              "0.6               29    351  ...        0.082621            -2.407256\n",
              "0.8               11    325  ...        0.033846            -3.351498\n",
              "1.0               10    154  ...        0.064935            -2.667228\n",
              "\n",
              "[6 rows x 6 columns]"
            ]
          },
          "metadata": {
            "tags": []
          },
          "execution_count": 37
        }
      ]
    },
    {
      "cell_type": "markdown",
      "metadata": {
        "id": "nvkGlR7Z_4oq",
        "colab_type": "text"
      },
      "source": [
        "# Plot ROC curve"
      ]
    },
    {
      "cell_type": "code",
      "metadata": {
        "id": "0vf5JPTg_rwi",
        "colab_type": "code",
        "outputId": "0a732770-0f97-46dd-87b9-f484d719f49d",
        "colab": {
          "base_uri": "https://localhost:8080/",
          "height": 388
        }
      },
      "source": [
        "probs = best_model.predict_proba(x_test)\n",
        "preds = probs[:,1]\n",
        "fpr, tpr, thresholds = metrics.roc_curve(y_test, preds)\n",
        "\n",
        "roc_auc = metrics.auc(fpr, tpr)\n",
        "\n",
        "# plt.title('Receiver Operating Characteristic Curve')\n",
        "# plt.plot(fpr, tpr, 'b', label = 'ROC AUC = %0.2f' % roc_auc)\n",
        "# plt.legend(loc = 'lower right')\n",
        "# plt.plot([0, 1], [0, 1],'r--')\n",
        "# plt.xlim([0, 1])\n",
        "# plt.ylim([0, 1])\n",
        "# plt.ylabel('True Positive Rate')\n",
        "# plt.xlabel('False Positive Rate')\n",
        "\n",
        "# plt.show()\n",
        "\n",
        "plt.subplots(figsize=(10, 6))\n",
        "plt.plot(fpr, tpr, '*-', label=\"ROC curve\")\n",
        "plt.plot(np.linspace(0,1,10), np.linspace(0,1,10), label=\"diagonal\")\n",
        "jump = 30\n",
        "for x, y, txt in zip(fpr[::jump], tpr[::jump], thresholds[::jump]):\n",
        "    plt.annotate(np.round(txt,3), (x, y-0.04))\n",
        "# rnd_idx = 100\n",
        "# plt.annotate('this point refers to the tpr and the fpr\\n at a probability threshold of {}'.format(np.round(thresholds[rnd_idx], 2)), \n",
        "#              xy=(fpr[rnd_idx], tpr[rnd_idx]), xytext=(fpr[rnd_idx]+0.2, tpr[rnd_idx]-0.25),\n",
        "#              arrowprops=dict(facecolor='black', lw=2, arrowstyle='->'),)\n",
        "plt.legend(loc=\"upper left\")\n",
        "plt.xlabel(\"FPR\")\n",
        "plt.ylabel(\"TPR\")\n",
        "\n",
        "plt.show()"
      ],
      "execution_count": 0,
      "outputs": [
        {
          "output_type": "display_data",
          "data": {
            "image/png": "[encoded data removed]",
            "text/plain": [
              "<Figure size 720x432 with 1 Axes>"
            ]
          },
          "metadata": {
            "tags": []
          }
        }
      ]
    },
    {
      "cell_type": "code",
      "metadata": {
        "id": "bgNu1zvUn8Fb",
        "colab_type": "code",
        "outputId": "559c5374-468b-4c75-8f36-4c1a0dbb5bf7",
        "colab": {
          "base_uri": "https://localhost:8080/",
          "height": 34
        }
      },
      "source": [
        "gmeans = np.sqrt(tpr * (1-fpr))\n",
        "ix = np.argmax(gmeans)\n",
        "print('Best Threshold=%f, G-Mean=%.3f' % (thresholds[ix], gmeans[ix]))"
      ],
      "execution_count": 0,
      "outputs": [
        {
          "output_type": "stream",
          "text": [
            "Best Threshold=0.242098, G-Mean=0.840\n"
          ],
          "name": "stdout"
        }
      ]
    },
    {
      "cell_type": "code",
      "metadata": {
        "id": "fbgc0wHJ65VG",
        "colab_type": "code",
        "outputId": "fad4640b-387a-43bb-ffa0-536d19c2cb44",
        "colab": {
          "base_uri": "https://localhost:8080/",
          "height": 295
        }
      },
      "source": [
        "precision, recall, thresholds = metrics.precision_recall_curve(y_test, preds)\n",
        "\n",
        "pr_auc = metrics.auc(recall, precision)\n",
        "\n",
        "plt.title('Precision-Recall Curve')\n",
        "plt.plot(recall, precision, 'b', label = 'PR AUC = %0.2f' % pr_auc)\n",
        "plt.legend(loc = 'lower right')\n",
        "plt.plot([0, 1], [0.155, 0.155],'r--')\n",
        "plt.xlim([0, 1])\n",
        "plt.ylim([0, 1])\n",
        "plt.ylabel('Precision')\n",
        "plt.xlabel('Recall')\n",
        "plt.show()"
      ],
      "execution_count": 0,
      "outputs": [
        {
          "output_type": "display_data",
          "data": {
            "image/png": "[encoded data removed]",
            "text/plain": [
              "<Figure size 432x288 with 1 Axes>"
            ]
          },
          "metadata": {
            "tags": []
          }
        }
      ]
    }
  ]
}