{
  "nbformat": 4,
  "nbformat_minor": 0,
  "metadata": {
    "colab": {
      "name": "predict_purchase.ipynb",
      "provenance": [],
      "mount_file_id": "1MR02_rDcGm8gzpCXufBii7u0NErI38r9",
      "authorship_tag": "ABX9TyPj8Z7grF5Pdtv6gL2/eBPN",
      "include_colab_link": true
    },
    "kernelspec": {
      "name": "python3",
      "display_name": "Python 3"
    }
  },
  "cells": [
    {
      "cell_type": "markdown",
      "metadata": {
        "id": "view-in-github",
        "colab_type": "text"
      },
      "source": [
        "<a href=\"https://colab.research.google.com/github/pati-dev/predict-shopping-intention/blob/master/predict_purchase.ipynb\" target=\"_parent\"><img src=\"https://colab.research.google.com/assets/colab-badge.svg\" alt=\"Open In Colab\"/></a>"
      ]
    },
    {
      "cell_type": "markdown",
      "metadata": {
        "id": "7JJq-qRHfxXN",
        "colab_type": "text"
      },
      "source": [
        "# Boot"
      ]
    },
    {
      "cell_type": "code",
      "metadata": {
        "id": "sw6CbwHtcAmo",
        "colab_type": "code",
        "colab": {}
      },
      "source": [
        "import numpy as np\n",
        "import pandas as pd\n",
        "import matplotlib.pyplot as plt\n",
        "\n",
        "from sklearn.decomposition import PCA\n",
        "from sklearn.preprocessing import QuantileTransformer\n",
        "from sklearn.model_selection import train_test_split\n",
        "from sklearn.linear_model import LogisticRegression\n",
        "from sklearn.model_selection import GridSearchCV\n",
        "from sklearn import metrics"
      ],
      "execution_count": 0,
      "outputs": []
    },
    {
      "cell_type": "markdown",
      "metadata": {
        "id": "nGXJ7vGHf1TT",
        "colab_type": "text"
      },
      "source": [
        "# Load Data"
      ]
    },
    {
      "cell_type": "code",
      "metadata": {
        "id": "XnQ9O2g4bVrm",
        "colab_type": "code",
        "colab": {}
      },
      "source": [
        "shop = pd.read_csv(\"/content/drive/My Drive/Personal/IUB/Job apps/Capgemini/online_shoppers_intention.csv\")"
      ],
      "execution_count": 0,
      "outputs": []
    },
    {
      "cell_type": "code",
      "metadata": {
        "id": "cKdYfiZ0cPmc",
        "colab_type": "code",
        "colab": {
          "base_uri": "https://localhost:8080/",
          "height": 224
        },
        "outputId": "39301cdd-d5b9-40bc-afc9-efbaf1624dc3"
      },
      "source": [
        "shop.head()"
      ],
      "execution_count": 7,
      "outputs": [
        {
          "output_type": "execute_result",
          "data": {
            "text/html": [
              "<div>\n",
              "<style scoped>\n",
              "    .dataframe tbody tr th:only-of-type {\n",
              "        vertical-align: middle;\n",
              "    }\n",
              "\n",
              "    .dataframe tbody tr th {\n",
              "        vertical-align: top;\n",
              "    }\n",
              "\n",
              "    .dataframe thead th {\n",
              "        text-align: right;\n",
              "    }\n",
              "</style>\n",
              "<table border=\"1\" class=\"dataframe\">\n",
              "  <thead>\n",
              "    <tr style=\"text-align: right;\">\n",
              "      <th></th>\n",
              "      <th>Administrative</th>\n",
              "      <th>Administrative_Duration</th>\n",
              "      <th>Informational</th>\n",
              "      <th>Informational_Duration</th>\n",
              "      <th>ProductRelated</th>\n",
              "      <th>ProductRelated_Duration</th>\n",
              "      <th>BounceRates</th>\n",
              "      <th>ExitRates</th>\n",
              "      <th>PageValues</th>\n",
              "      <th>SpecialDay</th>\n",
              "      <th>Month</th>\n",
              "      <th>OperatingSystems</th>\n",
              "      <th>Browser</th>\n",
              "      <th>Region</th>\n",
              "      <th>TrafficType</th>\n",
              "      <th>VisitorType</th>\n",
              "      <th>Weekend</th>\n",
              "      <th>Revenue</th>\n",
              "    </tr>\n",
              "  </thead>\n",
              "  <tbody>\n",
              "    <tr>\n",
              "      <th>0</th>\n",
              "      <td>0</td>\n",
              "      <td>0.0</td>\n",
              "      <td>0</td>\n",
              "      <td>0.0</td>\n",
              "      <td>1</td>\n",
              "      <td>0.000000</td>\n",
              "      <td>0.20</td>\n",
              "      <td>0.20</td>\n",
              "      <td>0.0</td>\n",
              "      <td>0.0</td>\n",
              "      <td>Feb</td>\n",
              "      <td>1</td>\n",
              "      <td>1</td>\n",
              "      <td>1</td>\n",
              "      <td>1</td>\n",
              "      <td>Returning_Visitor</td>\n",
              "      <td>False</td>\n",
              "      <td>False</td>\n",
              "    </tr>\n",
              "    <tr>\n",
              "      <th>1</th>\n",
              "      <td>0</td>\n",
              "      <td>0.0</td>\n",
              "      <td>0</td>\n",
              "      <td>0.0</td>\n",
              "      <td>2</td>\n",
              "      <td>64.000000</td>\n",
              "      <td>0.00</td>\n",
              "      <td>0.10</td>\n",
              "      <td>0.0</td>\n",
              "      <td>0.0</td>\n",
              "      <td>Feb</td>\n",
              "      <td>2</td>\n",
              "      <td>2</td>\n",
              "      <td>1</td>\n",
              "      <td>2</td>\n",
              "      <td>Returning_Visitor</td>\n",
              "      <td>False</td>\n",
              "      <td>False</td>\n",
              "    </tr>\n",
              "    <tr>\n",
              "      <th>2</th>\n",
              "      <td>0</td>\n",
              "      <td>0.0</td>\n",
              "      <td>0</td>\n",
              "      <td>0.0</td>\n",
              "      <td>1</td>\n",
              "      <td>0.000000</td>\n",
              "      <td>0.20</td>\n",
              "      <td>0.20</td>\n",
              "      <td>0.0</td>\n",
              "      <td>0.0</td>\n",
              "      <td>Feb</td>\n",
              "      <td>4</td>\n",
              "      <td>1</td>\n",
              "      <td>9</td>\n",
              "      <td>3</td>\n",
              "      <td>Returning_Visitor</td>\n",
              "      <td>False</td>\n",
              "      <td>False</td>\n",
              "    </tr>\n",
              "    <tr>\n",
              "      <th>3</th>\n",
              "      <td>0</td>\n",
              "      <td>0.0</td>\n",
              "      <td>0</td>\n",
              "      <td>0.0</td>\n",
              "      <td>2</td>\n",
              "      <td>2.666667</td>\n",
              "      <td>0.05</td>\n",
              "      <td>0.14</td>\n",
              "      <td>0.0</td>\n",
              "      <td>0.0</td>\n",
              "      <td>Feb</td>\n",
              "      <td>3</td>\n",
              "      <td>2</td>\n",
              "      <td>2</td>\n",
              "      <td>4</td>\n",
              "      <td>Returning_Visitor</td>\n",
              "      <td>False</td>\n",
              "      <td>False</td>\n",
              "    </tr>\n",
              "    <tr>\n",
              "      <th>4</th>\n",
              "      <td>0</td>\n",
              "      <td>0.0</td>\n",
              "      <td>0</td>\n",
              "      <td>0.0</td>\n",
              "      <td>10</td>\n",
              "      <td>627.500000</td>\n",
              "      <td>0.02</td>\n",
              "      <td>0.05</td>\n",
              "      <td>0.0</td>\n",
              "      <td>0.0</td>\n",
              "      <td>Feb</td>\n",
              "      <td>3</td>\n",
              "      <td>3</td>\n",
              "      <td>1</td>\n",
              "      <td>4</td>\n",
              "      <td>Returning_Visitor</td>\n",
              "      <td>True</td>\n",
              "      <td>False</td>\n",
              "    </tr>\n",
              "  </tbody>\n",
              "</table>\n",
              "</div>"
            ],
            "text/plain": [
              "   Administrative  Administrative_Duration  ...  Weekend  Revenue\n",
              "0               0                      0.0  ...    False    False\n",
              "1               0                      0.0  ...    False    False\n",
              "2               0                      0.0  ...    False    False\n",
              "3               0                      0.0  ...    False    False\n",
              "4               0                      0.0  ...     True    False\n",
              "\n",
              "[5 rows x 18 columns]"
            ]
          },
          "metadata": {
            "tags": []
          },
          "execution_count": 7
        }
      ]
    },
    {
      "cell_type": "markdown",
      "metadata": {
        "id": "4gysoS5zfr3t",
        "colab_type": "text"
      },
      "source": [
        "# Data preprocessing"
      ]
    },
    {
      "cell_type": "code",
      "metadata": {
        "id": "hzfZnfyQfLr0",
        "colab_type": "code",
        "colab": {
          "base_uri": "https://localhost:8080/",
          "height": 442
        },
        "outputId": "42a169cb-13bf-4d28-d30d-30c097079bc2"
      },
      "source": [
        "print(shop.columns)\n",
        "print(shop.dtypes)"
      ],
      "execution_count": 101,
      "outputs": [
        {
          "output_type": "stream",
          "text": [
            "Index(['Administrative', 'Administrative_Duration', 'Informational',\n",
            "       'Informational_Duration', 'ProductRelated', 'ProductRelated_Duration',\n",
            "       'BounceRates', 'ExitRates', 'PageValues', 'SpecialDay', 'Month',\n",
            "       'OperatingSystems', 'Browser', 'Region', 'TrafficType', 'VisitorType',\n",
            "       'Weekend', 'Revenue'],\n",
            "      dtype='object')\n",
            "Administrative               int64\n",
            "Administrative_Duration    float64\n",
            "Informational                int64\n",
            "Informational_Duration     float64\n",
            "ProductRelated               int64\n",
            "ProductRelated_Duration    float64\n",
            "BounceRates                float64\n",
            "ExitRates                  float64\n",
            "PageValues                 float64\n",
            "SpecialDay                 float64\n",
            "Month                       object\n",
            "OperatingSystems             int64\n",
            "Browser                      int64\n",
            "Region                       int64\n",
            "TrafficType                  int64\n",
            "VisitorType                 object\n",
            "Weekend                       bool\n",
            "Revenue                       bool\n",
            "dtype: object\n"
          ],
          "name": "stdout"
        }
      ]
    },
    {
      "cell_type": "code",
      "metadata": {
        "id": "LjJXeLIaFjN-",
        "colab_type": "code",
        "colab": {
          "base_uri": "https://localhost:8080/",
          "height": 265
        },
        "outputId": "29c4c821-8b6c-47d0-b3b0-591371432986"
      },
      "source": [
        "pages = ['Administrative',\n",
        "         'Informational',\n",
        "         'ProductRelated',\n",
        "         'Administrative_Duration',\n",
        "         'Informational_Duration',\n",
        "         'ProductRelated_Duration',\n",
        "         'BounceRates',\n",
        "         'ExitRates',\n",
        "         'PageValues']\n",
        "\n",
        "x_pages = shop.loc[:, pages].values\n",
        "\n",
        "plt.hist(x_pages, label=pages)\n",
        "plt.legend()\n",
        "plt.show()"
      ],
      "execution_count": 83,
      "outputs": [
        {
          "output_type": "display_data",
          "data": {
            "image/png": "[encoded data removed]",
            "text/plain": [
              "<Figure size 432x288 with 1 Axes>"
            ]
          },
          "metadata": {
            "tags": []
          }
        }
      ]
    },
    {
      "cell_type": "markdown",
      "metadata": {
        "id": "o6WnHNW3DQpG",
        "colab_type": "text"
      },
      "source": [
        "### Feature scaling"
      ]
    },
    {
      "cell_type": "code",
      "metadata": {
        "id": "2HHnLtp6kJBE",
        "colab_type": "code",
        "colab": {
          "base_uri": "https://localhost:8080/",
          "height": 265
        },
        "outputId": "044baf03-83bf-43dc-d92d-19464905e67a"
      },
      "source": [
        "x_pages = QuantileTransformer(output_distribution='uniform').fit_transform(x_pages)\n",
        "plt.hist(x_pages, label=pages)\n",
        "plt.legend()\n",
        "plt.show()"
      ],
      "execution_count": 84,
      "outputs": [
        {
          "output_type": "display_data",
          "data": {
            "image/png": "[encoded data removed]",
            "text/plain": [
              "<Figure size 432x288 with 1 Axes>"
            ]
          },
          "metadata": {
            "tags": []
          }
        }
      ]
    },
    {
      "cell_type": "markdown",
      "metadata": {
        "id": "LaSBI9xXJftF",
        "colab_type": "text"
      },
      "source": [
        "### Dimension reduction"
      ]
    },
    {
      "cell_type": "code",
      "metadata": {
        "id": "OqSNmZImsCcF",
        "colab_type": "code",
        "colab": {
          "base_uri": "https://localhost:8080/",
          "height": 282
        },
        "outputId": "f14d8580-1c8c-4794-e392-94dc21da885a"
      },
      "source": [
        "pca = PCA(n_components=4)\n",
        "\n",
        "pca.fit(x_pages)\n",
        "\n",
        "print(\"% variance explained:\", sum(pca.explained_variance_ratio_)*100)\n",
        "variance = np.cumsum(np.round(pca.explained_variance_ratio_, decimals=4)*100)\n",
        "plt.plot(variance, marker='*')\n",
        "plt.show()"
      ],
      "execution_count": 98,
      "outputs": [
        {
          "output_type": "stream",
          "text": [
            "% variance explained: 87.30159663473717\n"
          ],
          "name": "stdout"
        },
        {
          "output_type": "display_data",
          "data": {
            "image/png": "[encoded data removed]",
            "text/plain": [
              "<Figure size 432x288 with 1 Axes>"
            ]
          },
          "metadata": {
            "tags": []
          }
        }
      ]
    },
    {
      "cell_type": "markdown",
      "metadata": {
        "id": "9v6Zy75SJmVv",
        "colab_type": "text"
      },
      "source": [
        "# Modeling"
      ]
    },
    {
      "cell_type": "markdown",
      "metadata": {
        "id": "YR-c4x5lSC0G",
        "colab_type": "text"
      },
      "source": [
        "## Prepare data"
      ]
    },
    {
      "cell_type": "code",
      "metadata": {
        "id": "RcqHWU_TGXXo",
        "colab_type": "code",
        "colab": {}
      },
      "source": [
        "pages_pca = pca.fit_transform(x_pages)\n",
        "\n",
        "df_pages_pca = pd.DataFrame(data = pages_pca,\n",
        "                            columns = ['pages_pc1',\n",
        "                                       'pages_pc2',\n",
        "                                       'pages_pc3',\n",
        "                                       'pages_pc4'])\n",
        "\n",
        "shop['is_weekend'] = np.where(shop['Weekend']==True, 1, 0)\n",
        "shop['returning_visitor'] = np.where(shop['VisitorType']==\"Returning_Visitor\", 1, 0)\n",
        "shop['purchase'] = np.where(shop['Revenue']==True, 1, 0)\n",
        "\n",
        "cols = ['is_weekend',\n",
        "        'returning_visitor',\n",
        "        'SpecialDay',\n",
        "        'purchase']\n",
        "df_shop = shop.loc[:, cols]\n",
        "\n",
        "df_final = pd.concat([df_pages_pca, df_shop], axis=1)"
      ],
      "execution_count": 0,
      "outputs": []
    },
    {
      "cell_type": "code",
      "metadata": {
        "id": "MdUJqBDocsON",
        "colab_type": "code",
        "colab": {}
      },
      "source": [
        "features = ['pages_pc1',\n",
        "            'pages_pc2',\n",
        "            'pages_pc3',\n",
        "            'pages_pc4',\n",
        "            'is_weekend',\n",
        "            'returning_visitor',\n",
        "            'SpecialDay']\n",
        "x, y = df_final.loc[:, features], df_final['purchase']\n",
        "\n",
        "x_train, x_test, y_train, y_test = train_test_split(x, y, test_size=0.3, random_state=0)"
      ],
      "execution_count": 0,
      "outputs": []
    },
    {
      "cell_type": "code",
      "metadata": {
        "id": "SS7f0IfES7Re",
        "colab_type": "code",
        "colab": {
          "base_uri": "https://localhost:8080/",
          "height": 51
        },
        "outputId": "b42546ea-629a-4a44-9a4f-40a76847c80e"
      },
      "source": [
        "lr_model = LogisticRegression()\n",
        "\n",
        "# penalty = ['l1', 'l2']\n",
        "solver = ['lbfgs', 'newton-cg']\n",
        "C = np.logspace(0, 4, 10)\n",
        "\n",
        "hyperparams = dict(solver=solver,\n",
        "                   C=C)\n",
        "\n",
        "clf = GridSearchCV(lr_model, hyperparams, cv=5)\n",
        "model = clf.fit(x_train, y_train)\n",
        "\n",
        "print('Best solver:', model.best_estimator_.get_params()['solver'])\n",
        "print('Best C:', model.best_estimator_.get_params()['C'])"
      ],
      "execution_count": 125,
      "outputs": [
        {
          "output_type": "stream",
          "text": [
            "Best solver: lbfgs\n",
            "Best C: 1.0\n"
          ],
          "name": "stdout"
        }
      ]
    },
    {
      "cell_type": "code",
      "metadata": {
        "id": "L0G4ffIycpgy",
        "colab_type": "code",
        "colab": {
          "base_uri": "https://localhost:8080/",
          "height": 119
        },
        "outputId": "1bc0e10c-29cb-403b-afed-fea3a352395b"
      },
      "source": [
        "predictions = model.predict(x_test)\n",
        "\n",
        "acc = model.score(x_test, y_test)\n",
        "print(\"Accuracy:\", acc)\n",
        "\n",
        "M = metrics.confusion_matrix(y_test, predictions)\n",
        "n_samples = len(y_test)\n",
        "print(M)\n",
        "print('Accuracy:  %.2f' % ((M[0][0] + M[1][1]) / n_samples))\n",
        "print('Precision: %.2f' % (M[1][1] / (M[0][1] + M[1][1])))\n",
        "print('Recall:    %.2f' % (M[1][1] / (M[1][0] + M[1][1])))"
      ],
      "execution_count": 128,
      "outputs": [
        {
          "output_type": "stream",
          "text": [
            "Accuracy: 0.8683427953500946\n",
            "[[2951  126]\n",
            " [ 361  261]]\n",
            "Accuracy:  0.87\n",
            "Precision: 0.67\n",
            "Recall:    0.42\n"
          ],
          "name": "stdout"
        }
      ]
    }
  ]
}